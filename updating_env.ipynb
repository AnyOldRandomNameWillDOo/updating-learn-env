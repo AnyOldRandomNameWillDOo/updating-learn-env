{
 "cells": [
  {
   "cell_type": "markdown",
   "metadata": {},
   "source": [
    "# Updating Learn-Env"
   ]
  },
  {
   "cell_type": "markdown",
   "metadata": {
    "toc": true
   },
   "source": [
    "<h1>Table of Contents<span class=\"tocSkip\"></span></h1>\n",
    "<div class=\"toc\"><ul class=\"toc-item\"><li><span><a href=\"#Updating-Learn-Env\" data-toc-modified-id=\"Updating-Learn-Env-1\">Updating Learn-Env</a></span><ul class=\"toc-item\"><li><span><a href=\"#Make-sure-you-are-in-your-learn-env\" data-toc-modified-id=\"Make-sure-you-are-in-your-learn-env-1.1\">Make sure you are in your learn-env</a></span></li><li><span><a href=\"#Once-you-are-using-learn-env,-backup-your-environment:\" data-toc-modified-id=\"Once-you-are-using-learn-env,-backup-your-environment:-1.2\">Once you are using <code>learn-env</code>, backup your environment:</a></span><ul class=\"toc-item\"><li><span><a href=\"#It-is-recommended-to-do-a-commit-after-exporting-your-env\" data-toc-modified-id=\"It-is-recommended-to-do-a-commit-after-exporting-your-env-1.2.1\">It is recommended to do a commit after exporting your env</a></span></li></ul></li><li><span><a href=\"#Create-a-new-backup-environment-(learn-env-backup)-from-your-exported-file-above-(optional,-but-recommended)\" data-toc-modified-id=\"Create-a-new-backup-environment-(learn-env-backup)-from-your-exported-file-above-(optional,-but-recommended)-1.3\">Create a new backup environment (<code>learn-env-backup</code>) from your exported file above <em>(optional, but recommended)</em></a></span><ul class=\"toc-item\"><li><span><a href=\"#Display-a-list-of-all-packages-and-if-they-were-installed-by-conda-or-pip\" data-toc-modified-id=\"Display-a-list-of-all-packages-and-if-they-were-installed-by-conda-or-pip-1.3.1\">Display a list of all packages and if they were installed by conda or pip</a></span></li></ul></li></ul></li><li><span><a href=\"#Desired-Package-Versions-to-Install\" data-toc-modified-id=\"Desired-Package-Versions-to-Install-2\">Desired Package Versions to Install</a></span><ul class=\"toc-item\"><li><ul class=\"toc-item\"><li><span><a href=\"#Package-Versions-to-Install\" data-toc-modified-id=\"Package-Versions-to-Install-2.0.1\">Package Versions to Install</a></span></li></ul></li><li><span><a href=\"#Updating-Packages\" data-toc-modified-id=\"Updating-Packages-2.1\">Updating Packages</a></span><ul class=\"toc-item\"><li><span><a href=\"#Pandas\" data-toc-modified-id=\"Pandas-2.1.1\">Pandas</a></span></li><li><span><a href=\"#Matplotlib\" data-toc-modified-id=\"Matplotlib-2.1.2\">Matplotlib</a></span></li><li><span><a href=\"#Numpy\" data-toc-modified-id=\"Numpy-2.1.3\">Numpy</a></span></li><li><span><a href=\"#scikit-learn\" data-toc-modified-id=\"scikit-learn-2.1.4\">scikit-learn</a></span></li><li><span><a href=\"#Seaborn\" data-toc-modified-id=\"Seaborn-2.1.5\">Seaborn</a></span></li></ul></li></ul></li><li><span><a href=\"#Jupyer-Notebook-Extensions\" data-toc-modified-id=\"Jupyer-Notebook-Extensions-3\">Jupyer Notebook Extensions</a></span></li></ul></div>"
   ]
  },
  {
   "cell_type": "markdown",
   "metadata": {},
   "source": [
    "## Make sure you are in your learn-env"
   ]
  },
  {
   "cell_type": "markdown",
   "metadata": {},
   "source": [
    "- Run the following cell and check which env has an asterisk to the right of its name ( should be `learn-env`)\n",
    "    - If you SEE learn-env but it does not have an asterisk:\n",
    "        - Go to `Toolbar > Kernel > Change Kernel >` then select \"learn-env\" if you have it or `Python[conda env:learn-env]`.\n",
    "        - Re-run the cell below"
   ]
  },
  {
   "cell_type": "code",
   "execution_count": 1,
   "metadata": {
    "ExecuteTime": {
     "end_time": "2020-09-01T22:08:30.647513Z",
     "start_time": "2020-09-01T22:08:29.374230Z"
    },
    "tags": []
   },
   "outputs": [
    {
     "name": "stdout",
     "output_type": "stream",
     "text": [
      "# conda environments:\n",
      "#\n",
      "base                     /opt/anaconda3\n",
      "learn-env             *  /opt/anaconda3/envs/learn-env\n",
      "learn-env-backup         /opt/anaconda3/envs/learn-env-backup\n",
      "learn-env-ext            /opt/anaconda3/envs/learn-env-ext\n",
      "learn-env2               /opt/anaconda3/envs/learn-env2\n",
      "\n",
      "\n",
      "Note: you may need to restart the kernel to use updated packages.\n"
     ]
    }
   ],
   "source": [
    "## Should see a list of environments on your computer (likely only has base and learn-env)\n",
    "%conda env list"
   ]
  },
  {
   "cell_type": "markdown",
   "metadata": {},
   "source": [
    "- **If you do not see either `learn-env` or `Python[conda env:learn-env]`** you may not have activate learn-env before starting jupyter notebook. \n",
    "    - Close and Halt the notebook\n",
    "    - Quit / Terminate the terminal\n",
    "    - Then activate learn-env and launch jupyter notebook again\n",
    "    ```bash\n",
    "    conda activate learn-env\n",
    "    jupyter notebook\n",
    "    ```"
   ]
  },
  {
   "cell_type": "markdown",
   "metadata": {},
   "source": [
    "## Once you are using `learn-env`, backup your environment:"
   ]
  },
  {
   "cell_type": "markdown",
   "metadata": {},
   "source": [
    "- Blog Post:\n",
    "    - https://medium.com/@shandou/export-and-create-conda-environment-with-yml-5de619fe5a2"
   ]
  },
  {
   "cell_type": "code",
   "execution_count": 2,
   "metadata": {
    "ExecuteTime": {
     "end_time": "2020-09-01T22:08:30.653775Z",
     "start_time": "2020-09-01T22:08:30.650387Z"
    }
   },
   "outputs": [],
   "source": [
    "import functions as fn\n",
    "import os\n",
    "# help(fn)"
   ]
  },
  {
   "cell_type": "code",
   "execution_count": 3,
   "metadata": {
    "ExecuteTime": {
     "end_time": "2020-09-01T22:08:30.812367Z",
     "start_time": "2020-09-01T22:08:30.656393Z"
    }
   },
   "outputs": [
    {
     "data": {
      "text/plain": [
       "'learn-env-updated_09-01-2020.yml'"
      ]
     },
     "execution_count": 3,
     "metadata": {},
     "output_type": "execute_result"
    }
   ],
   "source": [
    "## Set name for the environment .yml\n",
    "env_name = fn.auto_filename_time('learn-env-updated',\n",
    "                                 timeformat='%m-%d-%Y',ext='.yml')\n",
    "env_name"
   ]
  },
  {
   "cell_type": "code",
   "execution_count": 4,
   "metadata": {
    "ExecuteTime": {
     "end_time": "2020-09-01T22:08:30.816805Z",
     "start_time": "2020-09-01T22:08:30.814439Z"
    }
   },
   "outputs": [],
   "source": [
    "# os.listdir()"
   ]
  },
  {
   "cell_type": "code",
   "execution_count": 5,
   "metadata": {
    "ExecuteTime": {
     "end_time": "2020-09-01T22:08:38.114194Z",
     "start_time": "2020-09-01T22:08:30.818892Z"
    },
    "tags": []
   },
   "outputs": [
    {
     "name": "stdout",
     "output_type": "stream",
     "text": [
      "The file learn-env-updated_09-01-2020.yml already exists. Overwrite?(y/n):n\n",
      "Filename changed to learn-env-updated_09-01-2020v2.yml\n",
      "\n",
      "Note: you may need to restart the kernel to use updated packages.\n"
     ]
    }
   ],
   "source": [
    "## Check for pre-existing .yml file\n",
    "yml_files = list(filter(lambda file: file.endswith('.yml'),os.listdir()))\n",
    "\n",
    "\n",
    "## Ask the user what to do if the environment file already exists. \n",
    "if env_name in yml_files:\n",
    "    \n",
    "    ans = input(f'The file {env_name} already exists. Overwrite?(y/n):')\n",
    "    \n",
    "    if ans.lower()=='n':\n",
    "        env_name = env_name.replace('.yml','v2.yml')\n",
    "        print(f\"Filename changed to {env_name}\")\n",
    "        \n",
    "    else:\n",
    "        print('Overwriting file...')\n",
    "else:\n",
    "    print(f'Saving environment file as {env_name}')\n",
    "## Export the environment to the .yml file\n",
    "%conda env export > \"{env_name}\""
   ]
  },
  {
   "cell_type": "markdown",
   "metadata": {},
   "source": [
    "### It is recommended to do a commit after exporting your env"
   ]
  },
  {
   "cell_type": "code",
   "execution_count": 6,
   "metadata": {
    "ExecuteTime": {
     "end_time": "2020-09-01T22:08:42.505445Z",
     "start_time": "2020-09-01T22:08:38.116398Z"
    }
   },
   "outputs": [
    {
     "name": "stdout",
     "output_type": "stream",
     "text": [
      "Commit repository changes? (y/n)n\n",
      "\n",
      "Skipping commiting changes...\n"
     ]
    }
   ],
   "source": [
    "## ask user to commit\n",
    "ans = input('Commit repository changes? (y/n)')\n",
    "print()\n",
    "\n",
    "## if yes:\n",
    "if ans.lower()=='y':\n",
    "\n",
    "    ## Run git commands using !\n",
    "    !git add .\n",
    "    !git commit -am\"Env Backup created.\"\n",
    "    \n",
    "    print('\\n\\nChanges committed.')\n",
    "    \n",
    "    ## ask user to push changes\n",
    "    print()\n",
    "    ans2 = input('Push commit to GitHub? (y/n)')\n",
    "    \n",
    "    ## If yes, push to gits\n",
    "    if ans2.lower()=='y':\n",
    "        !git push\n",
    "else:\n",
    "    print('Skipping commiting changes...')\n"
   ]
  },
  {
   "cell_type": "markdown",
   "metadata": {},
   "source": [
    "## Create a new backup environment (`learn-env-backup`) from your exported file above *(optional, but recommended)*"
   ]
  },
  {
   "cell_type": "code",
   "execution_count": 7,
   "metadata": {
    "ExecuteTime": {
     "end_time": "2020-09-01T22:08:45.902685Z",
     "start_time": "2020-09-01T22:08:42.507566Z"
    }
   },
   "outputs": [
    {
     "name": "stdout",
     "output_type": "stream",
     "text": [
      "Clone a backup of your learn-env?(y/n)n\n",
      "Skipping creation of learn-env-backup\n"
     ]
    }
   ],
   "source": [
    "ans = input(\"Clone a backup of your learn-env?(y/n)\")\n",
    "\n",
    "if ans.lower()=='y':\n",
    "    print('Cloning exported environment as learn-env-backup')\n",
    "    %conda env create -n \"learn-env-backup\" -f \"{env_name}\" #ironment.yml\n",
    "else:\n",
    "    print('Skipping creation of learn-env-backup')"
   ]
  },
  {
   "cell_type": "markdown",
   "metadata": {},
   "source": [
    "#### If you said `y`:\n",
    "- Make sure that `learn-env-backup` now appears in the env list"
   ]
  },
  {
   "cell_type": "code",
   "execution_count": 8,
   "metadata": {
    "ExecuteTime": {
     "end_time": "2020-09-01T22:08:47.269700Z",
     "start_time": "2020-09-01T22:08:45.906206Z"
    }
   },
   "outputs": [
    {
     "name": "stdout",
     "output_type": "stream",
     "text": [
      "# conda environments:\n",
      "#\n",
      "base                     /opt/anaconda3\n",
      "learn-env             *  /opt/anaconda3/envs/learn-env\n",
      "learn-env-backup         /opt/anaconda3/envs/learn-env-backup\n",
      "learn-env-ext            /opt/anaconda3/envs/learn-env-ext\n",
      "learn-env2               /opt/anaconda3/envs/learn-env2\n",
      "\n",
      "\n",
      "Note: you may need to restart the kernel to use updated packages.\n"
     ]
    }
   ],
   "source": [
    "%conda env list"
   ]
  },
  {
   "cell_type": "markdown",
   "metadata": {},
   "source": [
    "### Display a list of all packages and if they were installed by conda or pip"
   ]
  },
  {
   "cell_type": "code",
   "execution_count": 9,
   "metadata": {
    "ExecuteTime": {
     "end_time": "2020-09-01T22:08:47.840002Z",
     "start_time": "2020-09-01T22:08:47.272860Z"
    }
   },
   "outputs": [
    {
     "name": "stdout",
     "output_type": "stream",
     "text": [
      "\n",
      "     active environment : learn-env\n",
      "    active env location : /opt/anaconda3/envs/learn-env\n",
      "            shell level : 2\n",
      "       user config file : /Users/jamesirving/.condarc\n",
      " populated config files : /Users/jamesirving/.condarc\n",
      "          conda version : 4.8.3\n",
      "    conda-build version : 3.18.11\n",
      "         python version : 3.7.6.final.0\n",
      "       virtual packages : __osx=10.15.6\n",
      "       base environment : /opt/anaconda3  (writable)\n",
      "           channel URLs : https://conda.anaconda.org/conda-forge/osx-64\n",
      "                          https://conda.anaconda.org/conda-forge/noarch\n",
      "                          https://repo.anaconda.com/pkgs/main/osx-64\n",
      "                          https://repo.anaconda.com/pkgs/main/noarch\n",
      "                          https://repo.anaconda.com/pkgs/r/osx-64\n",
      "                          https://repo.anaconda.com/pkgs/r/noarch\n",
      "          package cache : /opt/anaconda3/pkgs\n",
      "                          /Users/jamesirving/.conda/pkgs\n",
      "       envs directories : /opt/anaconda3/envs\n",
      "                          /Users/jamesirving/.conda/envs\n",
      "               platform : osx-64\n",
      "             user-agent : conda/4.8.3 requests/2.22.0 CPython/3.7.6 Darwin/19.6.0 OSX/10.15.6\n",
      "                UID:GID : 503:20\n",
      "             netrc file : /Users/jamesirving/.netrc\n",
      "           offline mode : False\n",
      "\n",
      "\n",
      "Note: you may need to restart the kernel to use updated packages.\n"
     ]
    }
   ],
   "source": [
    "%conda info"
   ]
  },
  {
   "cell_type": "code",
   "execution_count": 10,
   "metadata": {
    "ExecuteTime": {
     "end_time": "2020-09-01T22:08:50.609645Z",
     "start_time": "2020-09-01T22:08:47.842025Z"
    },
    "scrolled": false,
    "tags": [
     "outputPrepend"
    ]
   },
   "outputs": [
    {
     "name": "stdout",
     "output_type": "stream",
     "text": [
      "# packages in environment at /opt/anaconda3/envs/learn-env:\r\n",
      "#\r\n",
      "# Name                    Version                   Build  Channel\r\n",
      "_py-xgboost-mutex         2.0                       cpu_0    conda-forge\r\n",
      "aiohttp                   3.6.2                    pypi_0    pypi\r\n",
      "alabaster                 0.7.12                     py_0    conda-forge\r\n",
      "ansi2html                 1.5.2            py36h9f0ad1d_1    conda-forge\r\n",
      "appdirs                   1.4.4                    pypi_0    pypi\r\n",
      "appnope                   0.1.0           py36h9f0ad1d_1001    conda-forge\r\n",
      "argh                      0.26.2                   pypi_0    pypi\r\n",
      "asgiref                   3.2.10                   pypi_0    pypi\r\n",
      "asn1crypto                1.4.0              pyh9f0ad1d_0    conda-forge\r\n",
      "astroid                   1.6.5                    py36_0    conda-forge\r\n",
      "astropy                   4.0.1.post1              pypi_0    pypi\r\n",
      "async-timeout             3.0.1                    pypi_0    pypi\r\n",
      "attrs                     19.3.0                     py_0    conda-forge\r\n",
      "autopep8                  1.5.3                    pypi_0    pypi\r\n",
      "babel                     2.8.0                      py_0    conda-forge\r\n",
      "backcall                  0.2.0              pyh9f0ad1d_0    conda-forge\r\n",
      "backports                 1.0                        py_2    conda-forge\r\n",
      "backports.functools_lru_cache 1.6.1                      py_0    conda-forge\r\n",
      "beautifulsoup4            4.9.1            py36h9f0ad1d_0    conda-forge\r\n",
      "blas                      1.0                         mkl  \r\n",
      "bleach                    3.1.5              pyh9f0ad1d_0    conda-forge\r\n",
      "boto                      2.49.0                     py_0    conda-forge\r\n",
      "boto3                     1.14.32            pyh9f0ad1d_0    conda-forge\r\n",
      "botocore                  1.17.32            pyh9f0ad1d_0    conda-forge\r\n",
      "brotli                    1.0.7                    pypi_0    pypi\r\n",
      "brotlipy                  0.7.0           py36h37b9a7d_1000    conda-forge\r\n",
      "bs-ds                     0.11.1                   pypi_0    pypi\r\n",
      "bump2version              0.5.11                   pypi_0    pypi\r\n",
      "bz2file                   0.98                       py_0    conda-forge\r\n",
      "c-ares                    1.16.1               haf1e3a3_3    conda-forge\r\n",
      "ca-certificates           2020.6.20            hecda079_0    conda-forge\r\n",
      "cachetools                4.1.1                      py_0    conda-forge\r\n",
      "cairo                     1.16.0            hec6a9b0_1003    conda-forge\r\n",
      "catboost                  0.23.2                   pypi_0    pypi\r\n",
      "certifi                   2020.6.20        py36h9f0ad1d_0    conda-forge\r\n",
      "cffi                      1.14.1           py36h6a9c9ac_0    conda-forge\r\n",
      "chardet                   3.0.4           py36h9f0ad1d_1006    conda-forge\r\n",
      "chart-studio              1.1.0                      py_0    plotly\r\n",
      "click                     7.1.2              pyh9f0ad1d_0    conda-forge\r\n",
      "cloog                     0.18.1                        1    conda-forge\r\n",
      "cloudpickle               1.5.0                      py_0    conda-forge\r\n",
      "colorlover                0.3.0                    pypi_0    pypi\r\n",
      "confuse                   1.3.0                    pypi_0    pypi\r\n",
      "coverage                  4.5.4                    pypi_0    pypi\r\n",
      "cryptography              3.0              py36h54f4bc5_0    conda-forge\r\n",
      "cryptography-vectors      3.0                pyh9f0ad1d_0    conda-forge\r\n",
      "cufflinks                 0.17.3                   pypi_0    pypi\r\n",
      "cycler                    0.10.0                     py_2    conda-forge\r\n",
      "cython                    0.29.21          py36h0130604_0    conda-forge\r\n",
      "dash                      1.14.0             pyh9f0ad1d_0    conda-forge\r\n",
      "dash-core-components      1.10.2             pyh9f0ad1d_0    conda-forge\r\n",
      "dash-html-components      1.0.3              pyh9f0ad1d_0    conda-forge\r\n",
      "dash-renderer             1.6.0              pyh9f0ad1d_0    conda-forge\r\n",
      "dash-table                4.9.0              pyh9f0ad1d_0    conda-forge\r\n",
      "dbus                      1.13.6               h2f22bb5_0    conda-forge\r\n",
      "decorator                 4.4.2                      py_0    conda-forge\r\n",
      "defusedxml                0.6.0                      py_0    conda-forge\r\n",
      "distlib                   0.3.1                    pypi_0    pypi\r\n",
      "django                    3.1                      pypi_0    pypi\r\n",
      "django-bootstrap4         2.2.0                    pypi_0    pypi\r\n",
      "django-plotly-dash        1.4.2                    pypi_0    pypi\r\n",
      "docutils                  0.15.2                   py36_0    conda-forge\r\n",
      "dpd-components            0.1.0                    pypi_0    pypi\r\n",
      "dpd-static-support        0.0.5                    pypi_0    pypi\r\n",
      "entrypoints               0.3             py36h9f0ad1d_1001    conda-forge\r\n",
      "et-xmlfile                1.0.1                    pypi_0    pypi\r\n",
      "expat                     2.2.9                h4a8c4bd_2    conda-forge\r\n",
      "fake-useragent            0.1.11                   pypi_0    pypi\r\n",
      "feature-engine            0.6.0                    pypi_0    pypi\r\n",
      "filelock                  3.0.12                   pypi_0    pypi\r\n",
      "flake8                    3.7.8                    pypi_0    pypi\r\n",
      "flask                     1.1.2              pyh9f0ad1d_0    conda-forge\r\n",
      "flask-compress            1.5.0              pyh9f0ad1d_0    conda-forge\r\n",
      "fontconfig                2.13.1            h6b1039f_1001    conda-forge\r\n",
      "freetype                  2.10.2               h8da9a1a_0    conda-forge\r\n",
      "fribidi                   1.0.10               h0b31af3_0    conda-forge\r\n",
      "fsds                      0.2.23                   pypi_0    pypi\r\n",
      "fsds-100719               0.7.22                   pypi_0    pypi\r\n",
      "future                    0.18.2           py36h9f0ad1d_1    conda-forge\r\n",
      "gensim                    3.8.3                    pypi_0    pypi\r\n",
      "gettext                   0.19.8.1          h46ab8bc_1002    conda-forge\r\n",
      "glib                      2.65.0               h577aef8_0    conda-forge\r\n",
      "gmp                       5.1.2                         6    conda-forge\r\n",
      "google-api-core           1.22.1           py36h9f0ad1d_0    conda-forge\r\n",
      "google-auth               1.20.1                     py_0    conda-forge\r\n",
      "google-cloud-core         1.4.1              pyh9f0ad1d_0    conda-forge\r\n",
      "google-cloud-storage      1.31.0             pyh9f0ad1d_0    conda-forge\r\n",
      "google-crc32c             1.0.0            py36h2de3d0e_0    conda-forge\r\n",
      "google-resumable-media    1.0.0              pyh9f0ad1d_0    conda-forge\r\n",
      "googleapis-common-protos  1.51.0           py36h9f0ad1d_2    conda-forge\r\n",
      "graphite2                 1.3.13            h12caacf_1001    conda-forge\r\n",
      "graphviz                  2.42.3               h98dfb87_0    conda-forge\r\n",
      "grpcio                    1.31.0           py36hb449344_0    conda-forge\r\n",
      "harfbuzz                  2.4.0                hd8d2a14_3    conda-forge\r\n",
      "hdf5                      1.10.5          nompi_h0cbb7df_1103    conda-forge\r\n",
      "htmlmin                   0.1.12                   pypi_0    pypi\r\n",
      "icu                       64.2                 h6de7cb9_1    conda-forge\r\n",
      "idna                      2.10               pyh9f0ad1d_0    conda-forge\r\n",
      "idna-ssl                  1.1.0                    pypi_0    pypi\r\n",
      "imagehash                 4.1.0                    pypi_0    pypi\r\n",
      "imagesize                 1.2.0                      py_0    conda-forge\r\n",
      "imdbpy                    6.8                      pypi_0    pypi\r\n",
      "importlib-metadata        0.23                     pypi_0    pypi\r\n",
      "importlib-resources       3.0.0                    pypi_0    pypi\r\n",
      "importlib_metadata        1.7.0                         0    conda-forge\r\n",
      "intel-openmp              2019.4                      233  \r\n",
      "ipykernel                 5.3.4            py36h95af2a2_0    conda-forge\r\n",
      "ipython                   7.16.1           py36h95af2a2_0    conda-forge\r\n",
      "ipython_genutils          0.2.0                      py_1    conda-forge\r\n",
      "ipywidgets                7.5.1                      py_0    conda-forge\r\n",
      "isl                       0.12.2                        1    conda-forge\r\n",
      "isort                     5.2.2            py36h9f0ad1d_0    conda-forge\r\n",
      "itsdangerous              1.1.0                      py_0    conda-forge\r\n",
      "jdcal                     1.4.1                    pypi_0    pypi\r\n",
      "jedi                      0.17.2           py36h9f0ad1d_0    conda-forge\r\n",
      "jinja2                    2.11.2             pyh9f0ad1d_0    conda-forge\r\n",
      "jmespath                  0.10.0             pyh9f0ad1d_0    conda-forge\r\n",
      "joblib                    0.16.0                     py_0    conda-forge\r\n",
      "jpeg                      9d                   h0b31af3_0    conda-forge\r\n",
      "jsonpickle                1.4.1                    pypi_0    pypi\r\n",
      "jsonschema                3.2.0            py36h9f0ad1d_1    conda-forge\r\n",
      "jupyter                   1.0.0                    pypi_0    pypi\r\n",
      "jupyter-dash              0.2.1.post1                py_0    plotly\r\n",
      "jupyter-plotly-dash       0.4.2                    pypi_0    pypi\r\n",
      "jupyter_client            6.1.6                      py_0    conda-forge\r\n",
      "jupyter_console           6.1.0                      py_1    conda-forge\r\n",
      "jupyter_contrib_core      0.3.3                      py_2    conda-forge\r\n",
      "jupyter_contrib_nbextensions 0.5.1                    py36_0    conda-forge\r\n",
      "jupyter_core              4.6.3            py36h9f0ad1d_1    conda-forge\r\n",
      "jupyter_highlight_selected_word 0.2.0                 py36_1000    conda-forge\r\n",
      "jupyter_latex_envs        1.4.4                 py36_1000    conda-forge\r\n",
      "jupyter_nbextensions_configurator 0.4.1            py36h9f0ad1d_1    conda-forge\r\n",
      "kaggle                    1.5.6                    pypi_0    pypi\r\n",
      "keyring                   21.2.1           py36h9f0ad1d_0    conda-forge\r\n",
      "kiwisolver                1.2.0            py36h863e41a_0    conda-forge\r\n",
      "krb5                      1.17.1               h75d18d8_2    conda-forge\r\n",
      "lazy-object-proxy         1.5.1            py36h9de38fb_0    conda-forge\r\n",
      "libblas                   3.8.0                    14_mkl    conda-forge\r\n",
      "libcblas                  3.8.0                    14_mkl    conda-forge\r\n",
      "libclang                  9.0.1           default_hf57f61e_0    conda-forge\r\n",
      "libcrc32c                 1.1.1                hb1e8313_2    conda-forge\r\n",
      "libcxx                    10.0.1               h5f48129_0    conda-forge\r\n",
      "libcxxabi                 4.0.1                hcfea43d_1    conda-forge\r\n",
      "libedit                   3.1.20191231         hed1e85f_1    conda-forge\r\n",
      "libffi                    3.2.1             h4a8c4bd_1007    conda-forge\r\n",
      "libgfortran               3.0.1                         0    conda-forge\r\n",
      "libiconv                  1.15              h0b31af3_1006    conda-forge\r\n",
      "libllvm9                  9.0.1                h7475705_1    conda-forge\r\n",
      "libpng                    1.6.37               hbbe82c9_1    conda-forge\r\n",
      "libpq                     12.3                 h489d428_0    conda-forge\r\n",
      "libprotobuf               3.13.0               hab81aa3_0    conda-forge\r\n",
      "libsodium                 1.0.17               h01d97ff_0    conda-forge\r\n",
      "libtiff                   4.1.0                h2ae36a8_6    conda-forge\r\n",
      "libwebp-base              1.1.0                h0b31af3_3    conda-forge\r\n",
      "libxgboost                1.1.1                h4a8c4bd_0    conda-forge\r\n",
      "libxml2                   2.9.10               h53d96d6_0    conda-forge\r\n",
      "libxslt                   1.1.33               h320ff13_0    conda-forge\r\n",
      "llvm-openmp               10.0.1               h28b9765_0    conda-forge\r\n",
      "llvmlite                  0.33.0                   pypi_0    pypi\r\n",
      "lxml                      4.5.2            py36h2ab0afd_0    conda-forge\r\n",
      "lz4-c                     1.9.2                hb1e8313_3    conda-forge\r\n",
      "markupsafe                1.1.1            py36h37b9a7d_1    conda-forge\r\n",
      "matplotlib                3.3.1                    pypi_0    pypi\r\n",
      "mccabe                    0.6.1                      py_1    conda-forge\r\n",
      "missingno                 0.4.2                    pypi_0    pypi\r\n",
      "mistune                   0.8.4           py36h37b9a7d_1001    conda-forge\r\n",
      "mkl                       2019.5                      281    conda-forge\r\n",
      "mkl-service               2.3.0            py36h0b31af3_0    conda-forge\r\n",
      "mkl_fft                   1.1.0            py36h3b54f70_1    conda-forge\r\n",
      "mkl_random                1.1.1            py36h959d312_0  \r\n",
      "mpc                       1.1.0                         4    conda-forge\r\n",
      "mpfr                      3.1.5                         0    conda-forge\r\n",
      "multidict                 4.7.6                    pypi_0    pypi\r\n",
      "nb_conda                  2.2.1                    py36_2    conda-forge\r\n",
      "nb_conda_kernels          2.2.3                    py36_0    conda-forge\r\n",
      "nbconvert                 5.6.1            py36h9f0ad1d_1    conda-forge\r\n",
      "nbformat                  5.0.7                      py_0    conda-forge\r\n",
      "nbserverproxy             0.8.8                    pypi_0    pypi\r\n",
      "ncurses                   6.2                  hb1e8313_1    conda-forge\r\n",
      "networkx                  2.4                      pypi_0    pypi\r\n",
      "nltk                      3.4.4                      py_0    conda-forge\r\n",
      "notebook                  6.0.3            py36h9f0ad1d_1    conda-forge\r\n",
      "nspr                      4.20              h0a44026_1000    conda-forge\r\n",
      "nss                       3.47                 hc0980d9_0    conda-forge\r\n",
      "numba                     0.50.1                   pypi_0    pypi\r\n",
      "numpy                     1.19.1           py36h3b9f5b6_0  \r\n",
      "numpy-base                1.19.1           py36hcfb5961_0  \r\n",
      "numpydoc                  1.1.0              pyh9f0ad1d_0    conda-forge\r\n",
      "oauthlib                  3.1.0                    pypi_0    pypi\r\n",
      "openpyxl                  3.0.4                    pypi_0    pypi\r\n",
      "openssl                   1.1.1g               haf1e3a3_1    conda-forge\r\n",
      "packaging                 20.4               pyh9f0ad1d_0    conda-forge\r\n",
      "pandas                    1.1.0            py36h27176af_0    conda-forge\r\n",
      "pandas-profiling          2.8.0                    pypi_0    pypi\r\n",
      "pandasql                  0.7.3                    pypi_0    pypi\r\n",
      "pandoc                    2.10.1               haf1e3a3_0    conda-forge\r\n",
      "pandocfilters             1.4.2                      py_1    conda-forge\r\n",
      "pango                     1.42.4               haa940fe_4    conda-forge\r\n",
      "parso                     0.7.1              pyh9f0ad1d_0    conda-forge\r\n",
      "pathtools                 0.1.2                    pypi_0    pypi\r\n",
      "patsy                     0.5.1                      py_0    conda-forge\r\n",
      "pcre                      8.44                 h4a8c4bd_0    conda-forge\r\n",
      "pexpect                   4.8.0            py36h9f0ad1d_1    conda-forge\r\n",
      "phik                      0.10.0                   pypi_0    pypi\r\n",
      "pickleshare               0.7.5           py36h9f0ad1d_1001    conda-forge\r\n",
      "pillow                    7.2.0                    pypi_0    pypi\r\n",
      "pip                       19.2.3                   pypi_0    pypi\r\n",
      "pixman                    0.38.0            h01d97ff_1003    conda-forge\r\n",
      "pkginfo                   1.5.0.1                  pypi_0    pypi\r\n",
      "plotly                    4.9.0              pyh9f0ad1d_0    conda-forge\r\n",
      "pluggy                    0.13.1                   pypi_0    pypi\r\n",
      "pprint                    0.1                      pypi_0    pypi\r\n",
      "prometheus_client         0.8.0              pyh9f0ad1d_0    conda-forge\r\n",
      "prompt-toolkit            3.0.5                      py_1    conda-forge\r\n",
      "prompt_toolkit            3.0.5                         1    conda-forge\r\n",
      "protobuf                  3.13.0           py36h27176af_0    conda-forge\r\n",
      "psutil                    5.7.2            py36h9de38fb_0    conda-forge\r\n",
      "ptyprocess                0.6.0                   py_1001    conda-forge\r\n",
      "py                        1.9.0                    pypi_0    pypi\r\n",
      "py4j                      0.10.9             pyh9f0ad1d_0    conda-forge\r\n",
      "pyasn1                    0.4.8                      py_0    conda-forge\r\n",
      "pyasn1-modules            0.2.7                      py_0    conda-forge\r\n",
      "pycodestyle               2.5.0                    pypi_0    pypi\r\n",
      "pycparser                 2.20               pyh9f0ad1d_2    conda-forge\r\n",
      "pydotplus                 2.0.2              pyhd1c1de3_3    conda-forge\r\n",
      "pyflakes                  2.1.1                    pypi_0    pypi\r\n",
      "pygments                  2.6.1                      py_0    conda-forge\r\n",
      "pylint                    1.8.4                    py36_0    conda-forge\r\n",
      "pyopenssl                 19.1.0                     py_1    conda-forge\r\n",
      "pyparsing                 2.4.7              pyh9f0ad1d_0    conda-forge\r\n",
      "pyperclip                 1.8.0                    pypi_0    pypi\r\n",
      "pyqt                      5.12.3           py36haa9e2f4_3    conda-forge\r\n",
      "pyqt5-sip                 4.19.18                  pypi_0    pypi\r\n",
      "pyqtchart                 5.12                     pypi_0    pypi\r\n",
      "pyqtwebengine             5.12.1                   pypi_0    pypi\r\n",
      "pyrsistent                0.16.0           py36h37b9a7d_0    conda-forge\r\n",
      "pysocks                   1.7.1            py36h9f0ad1d_1    conda-forge\r\n",
      "python                    3.6.11          h5d1cf6b_1_cpython    conda-forge\r\n",
      "python-dateutil           2.8.1                      py_0    conda-forge\r\n",
      "python-graphviz           0.14.1                   pypi_0    pypi\r\n",
      "python-slugify            4.0.1                    pypi_0    pypi\r\n",
      "python.app                1.3              py36h37b9a7d_1    conda-forge\r\n",
      "python_abi                3.6                     1_cp36m    conda-forge\r\n",
      "pytz                      2020.1             pyh9f0ad1d_0    conda-forge\r\n",
      "pywavelets                1.1.1                    pypi_0    pypi\r\n",
      "pyyaml                    5.3.1            py36h37b9a7d_0    conda-forge\r\n",
      "pyzmq                     19.0.1           py36h820b253_0    conda-forge\r\n",
      "qgrid                     1.3.1                    pypi_0    pypi\r\n",
      "qt                        5.12.5               h514805e_3    conda-forge\r\n",
      "qtawesome                 0.7.2              pyh9f0ad1d_0    conda-forge\r\n",
      "qtconsole                 4.7.5              pyh9f0ad1d_0    conda-forge\r\n",
      "qtpy                      1.9.0                      py_0    conda-forge\r\n",
      "readline                  8.0                  h0678c8f_2    conda-forge\r\n",
      "readme-renderer           26.0                     pypi_0    pypi\r\n",
      "requests                  2.24.0             pyh9f0ad1d_0    conda-forge\r\n",
      "requests-oauthlib         1.3.0                    pypi_0    pypi\r\n",
      "requests-toolbelt         0.9.1                    pypi_0    pypi\r\n",
      "retrying                  1.3.3                      py_2    conda-forge\r\n",
      "rope                      0.17.0             pyh9f0ad1d_0    conda-forge\r\n",
      "rsa                       4.6                pyh9f0ad1d_0    conda-forge\r\n",
      "s3transfer                0.3.3            py36h9f0ad1d_1    conda-forge\r\n",
      "scikit-learn              0.23.2           py36h637a150_0    conda-forge\r\n",
      "scipy                     1.5.2            py36h912ce22_0  \r\n",
      "seaborn                   0.10.1                   pypi_0    pypi\r\n",
      "selenium                  3.141.0                  pypi_0    pypi\r\n",
      "send2trash                1.5.0                      py_0    conda-forge\r\n",
      "setuptools                49.2.0           py36h9f0ad1d_0    conda-forge\r\n",
      "simplegeneric             0.8.1                      py_1    conda-forge\r\n",
      "sip                       4.19.23          py36h0130604_0    conda-forge\r\n",
      "six                       1.15.0             pyh9f0ad1d_0    conda-forge\r\n",
      "smart_open                2.1.0              pyh9f0ad1d_0    conda-forge\r\n",
      "snowballstemmer           2.0.0                      py_0    conda-forge\r\n",
      "soupsieve                 2.0.1            py36h9f0ad1d_0    conda-forge\r\n",
      "sphinx                    1.8.5                    pypi_0    pypi\r\n",
      "sphinxcontrib-applehelp   1.0.2                      py_0    conda-forge\r\n",
      "sphinxcontrib-devhelp     1.0.2                      py_0    conda-forge\r\n",
      "sphinxcontrib-htmlhelp    1.0.3                      py_0    conda-forge\r\n",
      "sphinxcontrib-jsmath      1.0.1                      py_0    conda-forge\r\n",
      "sphinxcontrib-qthelp      1.0.3                      py_0    conda-forge\r\n",
      "sphinxcontrib-serializinghtml 1.1.4                      py_0    conda-forge\r\n",
      "sphinxcontrib-websupport  1.2.4                    pypi_0    pypi\r\n",
      "spyder                    3.3.6                    py36_0  \r\n",
      "spyder-kernels            0.5.2                    py36_0    conda-forge\r\n",
      "sqlalchemy                1.3.18                   pypi_0    pypi\r\n",
      "sqlite                    3.32.3               h93121df_1    conda-forge\r\n",
      "sqlparse                  0.3.1                    pypi_0    pypi\r\n",
      "statsmodels               0.11.1           py36h37b9a7d_2    conda-forge\r\n",
      "tangled-up-in-unicode     0.0.6                    pypi_0    pypi\r\n",
      "terminado                 0.8.3            py36h9f0ad1d_1    conda-forge\r\n",
      "testpath                  0.4.4                      py_0    conda-forge\r\n",
      "text-unidecode            1.3                      pypi_0    pypi\r\n",
      "threadpoolctl             2.1.0              pyh5ca1d4c_0    conda-forge\r\n",
      "tk                        8.6.10               hbbe82c9_0    conda-forge\r\n",
      "toml                      0.10.1                   pypi_0    pypi\r\n",
      "tornado                   6.0.4            py36h37b9a7d_1    conda-forge\r\n",
      "tox                       3.14.0                   pypi_0    pypi\r\n",
      "tqdm                      4.48.0                   pypi_0    pypi\r\n",
      "traitlets                 4.3.3            py36h9f0ad1d_1    conda-forge\r\n",
      "tweepy                    3.9.0                    pypi_0    pypi\r\n",
      "twine                     1.14.0                   pypi_0    pypi\r\n",
      "typing-extensions         3.7.4.2                  pypi_0    pypi\r\n",
      "tzlocal                   2.1                      pypi_0    pypi\r\n",
      "urllib3                   1.24.3                   pypi_0    pypi\r\n",
      "virtualenv                20.0.31                  pypi_0    pypi\r\n",
      "visions                   0.4.4                    pypi_0    pypi\r\n",
      "watchdog                  0.9.0                    pypi_0    pypi\r\n",
      "wcwidth                   0.2.5              pyh9f0ad1d_1    conda-forge\r\n",
      "webencodings              0.5.1                      py_1    conda-forge\r\n",
      "werkzeug                  1.0.1              pyh9f0ad1d_0    conda-forge\r\n",
      "wheel                     0.33.6                   pypi_0    pypi\r\n",
      "widgetsnbextension        3.5.1            py36h9f0ad1d_1    conda-forge\r\n",
      "wordcloud                 1.7.0                    pypi_0    pypi\r\n",
      "wrapt                     1.12.1           py36h37b9a7d_1    conda-forge\r\n",
      "wurlitzer                 2.0.0            py36h9f0ad1d_1    conda-forge\r\n",
      "xgboost                   1.1.1                    pypi_0    pypi\r\n",
      "xlrd                      1.2.0              pyh9f0ad1d_1    conda-forge\r\n",
      "xz                        5.2.5                h0b31af3_1    conda-forge\r\n",
      "yaml                      0.2.5                h0b31af3_0    conda-forge\r\n",
      "yarl                      1.5.1                    pypi_0    pypi\r\n",
      "yellowbrick               1.1                      pypi_0    pypi\r\n",
      "zeromq                    4.3.2                h6de7cb9_2    conda-forge\r\n",
      "zipp                      3.1.0                      py_0    conda-forge\r\n",
      "zlib                      1.2.11            h0b31af3_1006    conda-forge\r\n",
      "zstd                      1.4.5                h0384e3a_2    conda-forge\r\n"
     ]
    },
    {
     "name": "stdout",
     "output_type": "stream",
     "text": [
      "\n",
      "Note: you may need to restart the kernel to use updated packages.\n"
     ]
    }
   ],
   "source": [
    "%conda list"
   ]
  },
  {
   "cell_type": "markdown",
   "metadata": {},
   "source": [
    "# Desired Package Versions to Install#"
   ]
  },
  {
   "cell_type": "code",
   "execution_count": 11,
   "metadata": {
    "ExecuteTime": {
     "end_time": "2020-09-01T22:08:51.742463Z",
     "start_time": "2020-09-01T22:08:50.612213Z"
    }
   },
   "outputs": [],
   "source": [
    "import pandas as pd\n",
    "import numpy as np\n",
    "import matplotlib as mpl\n",
    "import seaborn as sns\n",
    "import sklearn\n",
    "import inspect\n",
    "\n",
    "packages = [pd,np,mpl,sns,sklearn]\n",
    "for pkg in packages:\n",
    "    print(pkg.__name__+' = v'+str(pkg.__version__))\n",
    "    print('\\t'+inspect.getabsfile(pd))\n",
    "    print()"
   ]
  },
  {
   "cell_type": "markdown",
   "metadata": {},
   "source": [
    "### Package Versions to Install\n",
    "| Package | Version | \n",
    "| --- | --- |\n",
    "|pandas | >= 1.0.1 |\n",
    "|matplotlib | >= 3.3.1|\n",
    "| numpy | >= 1.16.5|\n",
    "|sklearn | >= v0.23 |\n",
    "| seaborn |  v0.10.1|\n",
    "\n"
   ]
  },
  {
   "cell_type": "markdown",
   "metadata": {},
   "source": [
    "## Updating Packages"
   ]
  },
  {
   "cell_type": "markdown",
   "metadata": {},
   "source": [
    "> Un-comment the update code for whatever packages that are not higher than the recommended versions above."
   ]
  },
  {
   "cell_type": "markdown",
   "metadata": {},
   "source": [
    "### Pandas"
   ]
  },
  {
   "cell_type": "code",
   "execution_count": 24,
   "metadata": {
    "ExecuteTime": {
     "end_time": "2020-09-01T22:15:30.467558Z",
     "start_time": "2020-09-01T22:15:30.465227Z"
    }
   },
   "outputs": [],
   "source": [
    "## PANDAS\n",
    "# %conda list pandas\n",
    "# %conda update pandas\n",
    "\n",
    "## Confirm worked\n",
    "# import pandas\n",
    "# pandas.__version__"
   ]
  },
  {
   "cell_type": "markdown",
   "metadata": {},
   "source": [
    "### Matplotlib"
   ]
  },
  {
   "cell_type": "code",
   "execution_count": 19,
   "metadata": {
    "ExecuteTime": {
     "end_time": "2020-09-01T22:12:44.708675Z",
     "start_time": "2020-09-01T22:12:44.705244Z"
    }
   },
   "outputs": [
    {
     "data": {
      "text/plain": [
       "'3.3.1'"
      ]
     },
     "execution_count": 19,
     "metadata": {},
     "output_type": "execute_result"
    }
   ],
   "source": [
    "## MATPLOTLIB\n",
    "# !pip install -U matplotlib\n",
    "\n",
    "# import matplotlib\n",
    "# matplotlib.__version__"
   ]
  },
  {
   "cell_type": "markdown",
   "metadata": {},
   "source": [
    "### Numpy"
   ]
  },
  {
   "cell_type": "markdown",
   "metadata": {},
   "source": [
    "> For numpy: Check the output of `%conda list numpy` below. \n",
    "- If the \"Channel\" column next to the `numpy` row says `pypi` then uncomment the `!pip install -U numpy` command.\n",
    "- If it doesn't say pypi use `%conda update numpy`"
   ]
  },
  {
   "cell_type": "code",
   "execution_count": 27,
   "metadata": {
    "ExecuteTime": {
     "end_time": "2020-09-01T22:17:35.964170Z",
     "start_time": "2020-09-01T22:17:33.517083Z"
    }
   },
   "outputs": [
    {
     "name": "stdout",
     "output_type": "stream",
     "text": [
      "# packages in environment at /opt/anaconda3/envs/learn-env:\n",
      "#\n",
      "# Name                    Version                   Build  Channel\n",
      "numpy                     1.19.1           py36h3b9f5b6_0  \n",
      "numpy-base                1.19.1           py36hcfb5961_0  \n",
      "numpydoc                  1.1.0              pyh9f0ad1d_0    conda-forge\n",
      "\n",
      "Note: you may need to restart the kernel to use updated packages.\n"
     ]
    }
   ],
   "source": [
    "## CHECK NUMPY CHANNEL\n",
    "%conda list numpy"
   ]
  },
  {
   "cell_type": "markdown",
   "metadata": {},
   "source": [
    "> If `numpy` shows up twice in the list above(one where channel=blank/conda-forge and another where channel=Pypi) you will want to run the following cell to remove both versions and re-install it"
   ]
  },
  {
   "cell_type": "code",
   "execution_count": 33,
   "metadata": {
    "ExecuteTime": {
     "end_time": "2020-09-01T22:24:08.160894Z",
     "start_time": "2020-09-01T22:24:08.158751Z"
    }
   },
   "outputs": [],
   "source": [
    "## IF NUMPY SHOWS UP AS BOTH PYPI AND CONDA>  \n",
    "\n",
    "## Uninstall both versions\n",
    "# !pip uninstall numpy\n",
    "# %conda remove numpy\n",
    "\n",
    "## Install Numpy with conda\n",
    "# %conda install numpy"
   ]
  },
  {
   "cell_type": "markdown",
   "metadata": {},
   "source": [
    "> If `numpy` shows up only once, then use the Channel to decide which update command to use"
   ]
  },
  {
   "cell_type": "code",
   "execution_count": 29,
   "metadata": {
    "ExecuteTime": {
     "end_time": "2020-09-01T22:21:50.079602Z",
     "start_time": "2020-09-01T22:21:50.077378Z"
    }
   },
   "outputs": [],
   "source": [
    "## NUMPY -  CHOOSE ONE COMMAND: CONDA OR PIP NOT BOTH\n",
    "\n",
    "# %conda update numpy\n",
    "## OR\n",
    "# !pip install -U numpy\n",
    "\n",
    "# import numpy\n",
    "# numpy.__version__"
   ]
  },
  {
   "cell_type": "markdown",
   "metadata": {},
   "source": [
    "### scikit-learn"
   ]
  },
  {
   "cell_type": "markdown",
   "metadata": {},
   "source": [
    "> Note: even though we import `sklearn`, the actual package that we update is listen by its full name `scikit-learn`"
   ]
  },
  {
   "cell_type": "code",
   "execution_count": 22,
   "metadata": {
    "ExecuteTime": {
     "end_time": "2020-09-01T22:15:12.547099Z",
     "start_time": "2020-09-01T22:15:12.544870Z"
    }
   },
   "outputs": [],
   "source": [
    "## SCIKIT-LEARN\n",
    "# %conda update scikit-learn\n",
    "\n",
    "# import sklearn as scikit \n",
    "# scikit.__version__"
   ]
  },
  {
   "cell_type": "markdown",
   "metadata": {},
   "source": [
    "### Seaborn"
   ]
  },
  {
   "cell_type": "code",
   "execution_count": 31,
   "metadata": {
    "ExecuteTime": {
     "end_time": "2020-09-01T22:22:43.170199Z",
     "start_time": "2020-09-01T22:22:43.167946Z"
    }
   },
   "outputs": [],
   "source": [
    "## Seaborn\n",
    "# !pip install -U seaborn\n",
    "\n",
    "# import seaborn\n",
    "# seaborn.__version__"
   ]
  },
  {
   "cell_type": "markdown",
   "metadata": {},
   "source": [
    "# Jupyer Notebook Extensions"
   ]
  },
  {
   "cell_type": "code",
   "execution_count": 35,
   "metadata": {
    "ExecuteTime": {
     "end_time": "2020-09-01T22:24:54.453410Z",
     "start_time": "2020-09-01T22:24:51.932066Z"
    }
   },
   "outputs": [
    {
     "name": "stdout",
     "output_type": "stream",
     "text": [
      "# packages in environment at /opt/anaconda3/envs/learn-env:\n",
      "#\n",
      "# Name                    Version                   Build  Channel\n",
      "jupyter_contrib_nbextensions 0.5.1                    py36_0    conda-forge\n",
      "\n",
      "Note: you may need to restart the kernel to use updated packages.\n"
     ]
    }
   ],
   "source": [
    "%conda list jupyter_contrib_nbextensions"
   ]
  },
  {
   "cell_type": "code",
   "execution_count": 38,
   "metadata": {
    "ExecuteTime": {
     "end_time": "2020-09-01T22:34:37.027074Z",
     "start_time": "2020-09-01T22:34:37.025032Z"
    }
   },
   "outputs": [],
   "source": [
    "# ## UNCOMMENT THE 3 LINES BELOW TO INSTALL AND ACTIVATE EXTENSIONS\n",
    "# %conda install -c conda-forge jupyter_contrib_nbextensions\n",
    "# %conda install jupyter_nbextensions_configurator\n",
    "# !jupyter nbextension enable jupyter_nbextensions_configurator"
   ]
  },
  {
   "cell_type": "code",
   "execution_count": 39,
   "metadata": {
    "ExecuteTime": {
     "end_time": "2020-09-01T22:34:40.903668Z",
     "start_time": "2020-09-01T22:34:40.901804Z"
    },
    "scrolled": false
   },
   "outputs": [],
   "source": [
    "# %conda update jupyter_contrib_nbextensions\n",
    "# %conda update jupyter_nbextensions_configurator"
   ]
  },
  {
   "cell_type": "code",
   "execution_count": 37,
   "metadata": {
    "ExecuteTime": {
     "end_time": "2020-09-01T22:26:35.375496Z",
     "start_time": "2020-09-01T22:26:35.373032Z"
    }
   },
   "outputs": [],
   "source": [
    "# ## Activate recommended extensions\n",
    "# !jupyter nbextension enable execute_time/ExecuteTime\n",
    "# !jupyter nbextension enable toc2/main\n",
    "# !jupyter nbextension enable livemdpreview/livemdpreview\n",
    "# !jupyter nbextension enable collapsible_headings/main\n",
    "# !jupyter nbextension enable spellchecker/main\n",
    "# !jupyter nbextension enable codefolding/main\n",
    "# !jupyter nbextension enable ruler/main"
   ]
  },
  {
   "cell_type": "code",
   "execution_count": null,
   "metadata": {},
   "outputs": [],
   "source": []
  }
 ],
 "metadata": {
  "kernelspec": {
   "display_name": "learn-env",
   "language": "python",
   "name": "learn-env"
  },
  "language_info": {
   "codemirror_mode": {
    "name": "ipython",
    "version": 3
   },
   "file_extension": ".py",
   "mimetype": "text/x-python",
   "name": "python",
   "nbconvert_exporter": "python",
   "pygments_lexer": "ipython3",
   "version": "3.6.11"
  },
  "toc": {
   "base_numbering": 1,
   "nav_menu": {},
   "number_sections": false,
   "sideBar": true,
   "skip_h1_title": false,
   "title_cell": "Table of Contents",
   "title_sidebar": "Contents",
   "toc_cell": true,
   "toc_position": {
    "height": "calc(100% - 180px)",
    "left": "10px",
    "top": "150px",
    "width": "320px"
   },
   "toc_section_display": true,
   "toc_window_display": true
  }
 },
 "nbformat": 4,
 "nbformat_minor": 2
}
