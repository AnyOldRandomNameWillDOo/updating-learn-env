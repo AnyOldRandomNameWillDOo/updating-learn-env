{
 "cells": [
  {
   "cell_type": "markdown",
   "metadata": {},
   "source": [
    "# Updating Learn-Env"
   ]
  },
  {
   "cell_type": "markdown",
   "metadata": {
    "toc": true
   },
   "source": [
    "<h1>Table of Contents<span class=\"tocSkip\"></span></h1>\n",
    "<div class=\"toc\"><ul class=\"toc-item\"><li><span><a href=\"#Updating-Learn-Env\" data-toc-modified-id=\"Updating-Learn-Env-1\">Updating Learn-Env</a></span><ul class=\"toc-item\"><li><span><a href=\"#Make-sure-you-are-in-your-learn-env\" data-toc-modified-id=\"Make-sure-you-are-in-your-learn-env-1.1\">Make sure you are in your learn-env</a></span></li><li><span><a href=\"#Once-you-are-using-learn-env,-backup-your-environment:\" data-toc-modified-id=\"Once-you-are-using-learn-env,-backup-your-environment:-1.2\">Once you are using <code>learn-env</code>, backup your environment:</a></span><ul class=\"toc-item\"><li><span><a href=\"#It-is-recommended-to-do-a-commit-after-exporting-your-env\" data-toc-modified-id=\"It-is-recommended-to-do-a-commit-after-exporting-your-env-1.2.1\">It is recommended to do a commit after exporting your env</a></span></li><li><span><a href=\"#Create-a-backup-learn-env-from-your-exported-file-above\" data-toc-modified-id=\"Create-a-backup-learn-env-from-your-exported-file-above-1.2.2\">Create a backup learn-env from your exported file above</a></span></li><li><span><a href=\"#Display-a-list-of-all-packages-and-if-they-were-installed-by-conda-or-pip\" data-toc-modified-id=\"Display-a-list-of-all-packages-and-if-they-were-installed-by-conda-or-pip-1.2.3\">Display a list of all packages and if they were installed by conda or pip</a></span></li></ul></li></ul></li><li><span><a href=\"#Desired-Package-Versions-to-Install\" data-toc-modified-id=\"Desired-Package-Versions-to-Install-2\">Desired Package Versions to Install</a></span><ul class=\"toc-item\"><li><ul class=\"toc-item\"><li><span><a href=\"#Package-Versions-to-Install\" data-toc-modified-id=\"Package-Versions-to-Install-2.0.1\">Package Versions to Install</a></span></li></ul></li></ul></li><li><span><a href=\"#Jupyer-Notebook-Extensions\" data-toc-modified-id=\"Jupyer-Notebook-Extensions-3\">Jupyer Notebook Extensions</a></span></li><li><span><a href=\"#BOOKMARK\" data-toc-modified-id=\"BOOKMARK-4\">BOOKMARK</a></span></li></ul></div>"
   ]
  },
  {
   "cell_type": "markdown",
   "metadata": {},
   "source": [
    "## Make sure you are in your learn-env"
   ]
  },
  {
   "cell_type": "markdown",
   "metadata": {},
   "source": [
    "- Run the following cell and check which env has an asterisk to the right of its name ( should be `learn-env`)\n",
    "    - If you SEE learn-env but it does not have an asterisk:\n",
    "        - Go to `Toolbar > Kernel > Change Kernel >` then select \"learn-env\" if you have it or `Python[conda env:learn-env]`.\n",
    "        - Re-run the cell below"
   ]
  },
  {
   "cell_type": "code",
   "execution_count": 6,
   "metadata": {
    "ExecuteTime": {
     "end_time": "2020-07-31T00:44:13.334611Z",
     "start_time": "2020-07-31T00:44:11.795268Z"
    },
    "tags": []
   },
   "outputs": [
    {
     "name": "stdout",
     "output_type": "stream",
     "text": [
      "# conda environments:\n",
      "#\n",
      "base                     /opt/anaconda3\n",
      "learn-env             *  /opt/anaconda3/envs/learn-env\n",
      "learn-env-backup         /opt/anaconda3/envs/learn-env-backup\n",
      "learn-env-ext            /opt/anaconda3/envs/learn-env-ext\n",
      "learn-env2               /opt/anaconda3/envs/learn-env2\n",
      "\n",
      "\n",
      "Note: you may need to restart the kernel to use updated packages.\n"
     ]
    }
   ],
   "source": [
    "## Should see a list of environments on your computer (likely only has base and learn-env)\n",
    "%conda env list"
   ]
  },
  {
   "cell_type": "markdown",
   "metadata": {},
   "source": [
    "- **If you do not see either `learn-env` or `Python[conda env:learn-env]`** you may not have activate learn-env before starting jupyter notebook. \n",
    "    - Close and Halt the notebook\n",
    "    - Quit / Terminate the terminal\n",
    "    - Then activate learn-env and launch jupyter notebook again\n",
    "    ```bash\n",
    "    conda activate learn-env\n",
    "    jupyter notebook\n",
    "    ```"
   ]
  },
  {
   "cell_type": "markdown",
   "metadata": {},
   "source": [
    "## Once you are using `learn-env`, backup your environment:"
   ]
  },
  {
   "cell_type": "markdown",
   "metadata": {},
   "source": [
    "- Blog Post:\n",
    "    - https://medium.com/@shandou/export-and-create-conda-environment-with-yml-5de619fe5a2"
   ]
  },
  {
   "cell_type": "code",
   "execution_count": 7,
   "metadata": {
    "ExecuteTime": {
     "end_time": "2020-07-31T00:44:15.624358Z",
     "start_time": "2020-07-31T00:44:15.529781Z"
    }
   },
   "outputs": [
    {
     "data": {
      "text/plain": [
       "'learn-env-updated_07-30-2020.yml'"
      ]
     },
     "execution_count": 7,
     "metadata": {},
     "output_type": "execute_result"
    }
   ],
   "source": [
    "# !pip install tzlocal\n",
    "import functions as fn\n",
    "import os\n",
    "\n",
    "env_name = fn.auto_filename_time('learn-env-updated',\n",
    "                                 timeformat='%m-%d-%Y',ext='.yml')\n",
    "env_name"
   ]
  },
  {
   "cell_type": "code",
   "execution_count": 8,
   "metadata": {
    "ExecuteTime": {
     "end_time": "2020-07-31T00:44:17.958292Z",
     "start_time": "2020-07-31T00:44:17.954649Z"
    }
   },
   "outputs": [
    {
     "data": {
      "text/plain": [
       "['functions.py',\n",
       " 'LICENSE',\n",
       " 'learn-env_07-30-2020.yml',\n",
       " '__pycache__',\n",
       " 'README.md',\n",
       " 'learn-env-updated_07-30-2020.yml',\n",
       " 'updating_env.ipynb',\n",
       " '.gitignore',\n",
       " '.gitattributes',\n",
       " '.ipynb_checkpoints',\n",
       " '.git',\n",
       " '.vscode']"
      ]
     },
     "execution_count": 8,
     "metadata": {},
     "output_type": "execute_result"
    }
   ],
   "source": [
    "os.listdir()"
   ]
  },
  {
   "cell_type": "code",
   "execution_count": 9,
   "metadata": {
    "ExecuteTime": {
     "end_time": "2020-07-31T00:44:24.627549Z",
     "start_time": "2020-07-31T00:44:19.109871Z"
    },
    "tags": []
   },
   "outputs": [
    {
     "name": "stdout",
     "output_type": "stream",
     "text": [
      "The file learn-env-updated_07-30-2020.yml already exists. Overwrite?(y/n):y\n",
      "Overwriting file...\n",
      "\n",
      "Note: you may need to restart the kernel to use updated packages.\n"
     ]
    }
   ],
   "source": [
    "## Check for pre-existing .yml file\n",
    "yml_files = list(filter(lambda file: file.endswith('.yml'),os.listdir()))\n",
    "\n",
    "\n",
    "if env_name in yml_files:\n",
    "    \n",
    "    ans = input(f'The file {env_name} already exists. Overwrite?(y/n):')\n",
    "    \n",
    "    if ans.lower()=='n':\n",
    "        env_name = env_name.replace('.yml','v2.yml')\n",
    "        print(f\"Filename changed to {env_name}\")\n",
    "        \n",
    "    else:\n",
    "        print('Overwriting file...')\n",
    "\n",
    "\n",
    "%conda env export > \"{env_name}\""
   ]
  },
  {
   "cell_type": "markdown",
   "metadata": {},
   "source": [
    "### It is recommended to do a commit after exporting your env"
   ]
  },
  {
   "cell_type": "code",
   "execution_count": null,
   "metadata": {
    "ExecuteTime": {
     "end_time": "2020-07-25T23:09:38.701545Z",
     "start_time": "2020-07-25T23:09:29.756625Z"
    }
   },
   "outputs": [],
   "source": [
    "## ask to commit\n",
    "ans = input('Commit repository changes? (y/n)')\n",
    "\n",
    "## if yes:\n",
    "if ans.lower()=='y':\n",
    "    ## Run git commands using !\n",
    "    !git add .\n",
    "    !git commit -am\"Env Backup created.\"\n",
    "    print('Changes committed.')\n",
    "    \n",
    "    ## ask to push\n",
    "    ans2 = input('Push commit to GitHub? (y/n)')\n",
    "    if ans2.lower()=='y':\n",
    "        !git push\n",
    "else:\n",
    "    print('Skipping commiting changes...')\n"
   ]
  },
  {
   "cell_type": "code",
   "execution_count": null,
   "metadata": {},
   "outputs": [],
   "source": []
  },
  {
   "cell_type": "markdown",
   "metadata": {},
   "source": [
    "### Create a backup learn-env from your exported file above"
   ]
  },
  {
   "cell_type": "code",
   "execution_count": null,
   "metadata": {
    "ExecuteTime": {
     "end_time": "2020-07-25T23:10:36.213199Z",
     "start_time": "2020-07-25T23:10:34.521387Z"
    }
   },
   "outputs": [],
   "source": [
    "ans = input(\"Clone a backup of your learn-env?(y/n)\")\n",
    "if ans.lower()=='y':\n",
    "    print('Cloning exported environment as learn-env-backup')\n",
    "    %conda env create -n \"learn-env-backup\" -f \"{env_name}\" #ironment.yml\n"
   ]
  },
  {
   "cell_type": "markdown",
   "metadata": {},
   "source": [
    "#### Make sure that `learn-env-backup` now appears in the env list"
   ]
  },
  {
   "cell_type": "code",
   "execution_count": null,
   "metadata": {
    "ExecuteTime": {
     "end_time": "2020-07-31T00:31:56.575451Z",
     "start_time": "2020-07-31T00:31:55.089164Z"
    }
   },
   "outputs": [],
   "source": [
    "%conda env list"
   ]
  },
  {
   "cell_type": "markdown",
   "metadata": {},
   "source": [
    "### Display a list of all packages and if they were installed by conda or pip"
   ]
  },
  {
   "cell_type": "code",
   "execution_count": null,
   "metadata": {
    "ExecuteTime": {
     "end_time": "2020-07-31T00:36:36.799795Z",
     "start_time": "2020-07-31T00:36:34.666801Z"
    },
    "scrolled": false
   },
   "outputs": [],
   "source": [
    "%conda list"
   ]
  },
  {
   "cell_type": "code",
   "execution_count": null,
   "metadata": {
    "ExecuteTime": {
     "end_time": "2020-07-31T00:35:40.010577Z",
     "start_time": "2020-07-31T00:35:39.430325Z"
    }
   },
   "outputs": [],
   "source": [
    "%conda info"
   ]
  },
  {
   "cell_type": "markdown",
   "metadata": {},
   "source": [
    "# Desired Package Versions to Install#"
   ]
  },
  {
   "cell_type": "code",
   "execution_count": null,
   "metadata": {},
   "outputs": [],
   "source": []
  },
  {
   "cell_type": "code",
   "execution_count": 2,
   "metadata": {
    "ExecuteTime": {
     "end_time": "2020-07-31T00:43:17.644104Z",
     "start_time": "2020-07-31T00:43:02.927541Z"
    }
   },
   "outputs": [],
   "source": [
    "# %conda update pandas\n",
    "import pandas"
   ]
  },
  {
   "cell_type": "code",
   "execution_count": null,
   "metadata": {
    "ExecuteTime": {
     "end_time": "2020-07-31T00:38:30.600396Z",
     "start_time": "2020-07-31T00:38:30.598240Z"
    }
   },
   "outputs": [],
   "source": [
    "# !pip list numpy\n",
    "# !pip uninstall numpy\n",
    "# %conda remove numpy"
   ]
  },
  {
   "cell_type": "code",
   "execution_count": 4,
   "metadata": {
    "ExecuteTime": {
     "end_time": "2020-07-31T00:43:53.648158Z",
     "start_time": "2020-07-31T00:43:52.547728Z"
    }
   },
   "outputs": [],
   "source": [
    "import pandas as pd\n",
    "import numpy as np\n",
    "import matplotlib as mpl\n",
    "import seaborn as sns\n",
    "import sklearn\n",
    "import inspect\n"
   ]
  },
  {
   "cell_type": "code",
   "execution_count": 5,
   "metadata": {
    "ExecuteTime": {
     "end_time": "2020-07-31T00:43:54.670569Z",
     "start_time": "2020-07-31T00:43:54.665199Z"
    }
   },
   "outputs": [
    {
     "name": "stdout",
     "output_type": "stream",
     "text": [
      "pandas = v1.1.0\n",
      "\t/opt/anaconda3/envs/learn-env/lib/python3.6/site-packages/pandas/__init__.py\n",
      "\n",
      "numpy = v1.19.1\n",
      "\t/opt/anaconda3/envs/learn-env/lib/python3.6/site-packages/pandas/__init__.py\n",
      "\n",
      "matplotlib = v3.3.0\n",
      "\t/opt/anaconda3/envs/learn-env/lib/python3.6/site-packages/pandas/__init__.py\n",
      "\n",
      "seaborn = v0.10.1\n",
      "\t/opt/anaconda3/envs/learn-env/lib/python3.6/site-packages/pandas/__init__.py\n",
      "\n",
      "sklearn = v0.23.1\n",
      "\t/opt/anaconda3/envs/learn-env/lib/python3.6/site-packages/pandas/__init__.py\n",
      "\n"
     ]
    }
   ],
   "source": [
    "packages = [pd,np,mpl,sns,sklearn]\n",
    "for pkg in packages:\n",
    "    print(pkg.__name__+' = v'+str(pkg.__version__))\n",
    "    print('\\t'+inspect.getabsfile(pd))\n",
    "    print()"
   ]
  },
  {
   "cell_type": "markdown",
   "metadata": {},
   "source": [
    "### Package Versions to Install\n",
    "| Package | Version | \n",
    "| --- | --- |\n",
    "|pandas | >= 1.0.1 |\n",
    "|matplotlib | >= 3.2.2|\n",
    "| numpy | 1.16.5|\n",
    "|sklearn | v0.22.1 |\n",
    "| seaborn |  v0.10.1|\n",
    "\n"
   ]
  },
  {
   "cell_type": "code",
   "execution_count": null,
   "metadata": {
    "ExecuteTime": {
     "start_time": "2020-07-31T00:22:22.968Z"
    }
   },
   "outputs": [],
   "source": [
    "# %conda info"
   ]
  },
  {
   "cell_type": "code",
   "execution_count": null,
   "metadata": {},
   "outputs": [],
   "source": []
  },
  {
   "cell_type": "code",
   "execution_count": null,
   "metadata": {
    "ExecuteTime": {
     "start_time": "2020-07-31T00:22:10.340Z"
    }
   },
   "outputs": [],
   "source": [
    "%conda update pandas"
   ]
  },
  {
   "cell_type": "markdown",
   "metadata": {},
   "source": [
    "# Jupyer Notebook Extensions"
   ]
  },
  {
   "cell_type": "code",
   "execution_count": null,
   "metadata": {
    "ExecuteTime": {
     "start_time": "2020-07-31T00:32:00.526Z"
    }
   },
   "outputs": [],
   "source": [
    "try:\n",
    "    %conda install -c conda-forge jupyter_contrib_nbextensions\n",
    "    %conda install jupyter_nbextensions_configurator\n",
    "except Exception as e:\n",
    "    print(e)\n",
    "#     print('Conda install failed, using pip install instead.')\n",
    "#     !pip install jupyter_contrib_nbextensions\n",
    "#     !jupyter contrib nbextension install --user\n",
    "\n",
    "\n",
    "!jupyter nbextension enable jupyter_nbextensions_configurator"
   ]
  },
  {
   "cell_type": "code",
   "execution_count": null,
   "metadata": {
    "ExecuteTime": {
     "end_time": "2020-07-31T00:18:16.604485Z",
     "start_time": "2020-07-31T00:18:16.602820Z"
    },
    "scrolled": false
   },
   "outputs": [],
   "source": [
    "# %conda update jupyter_contrib_nbextensions\n",
    "# %conda update jupyter_nbextensions_configurator"
   ]
  },
  {
   "cell_type": "code",
   "execution_count": null,
   "metadata": {
    "ExecuteTime": {
     "end_time": "2020-07-31T00:18:18.894787Z",
     "start_time": "2020-07-31T00:18:16.605557Z"
    }
   },
   "outputs": [],
   "source": [
    "!jupyter nbextension enable execute_time/ExecuteTime\n",
    "!jupyter nbextension enable toc2/main\n",
    "!jupyter nbextension enable livemdpreview/livemdpreview\n",
    "!jupyter nbextension enable collapsible_headings/main\n",
    "!jupyter nbextension enable spellchecker/main\n",
    "!jupyter nbextension enable codefolding/main\n",
    "!jupyter nbextension enable ruler/main"
   ]
  },
  {
   "cell_type": "markdown",
   "metadata": {},
   "source": [
    "# BOOKMARK"
   ]
  },
  {
   "cell_type": "code",
   "execution_count": null,
   "metadata": {
    "ExecuteTime": {
     "end_time": "2020-07-25T23:10:17.314292Z",
     "start_time": "2020-07-25T23:10:17.163865Z"
    }
   },
   "outputs": [],
   "source": [
    "stop"
   ]
  },
  {
   "cell_type": "code",
   "execution_count": null,
   "metadata": {
    "ExecuteTime": {
     "end_time": "2020-07-25T23:10:17.315675Z",
     "start_time": "2020-07-25T23:09:14.314Z"
    }
   },
   "outputs": [],
   "source": [
    "!pip search pandas#--help"
   ]
  },
  {
   "cell_type": "code",
   "execution_count": null,
   "metadata": {
    "ExecuteTime": {
     "end_time": "2020-07-25T23:10:17.316447Z",
     "start_time": "2020-07-25T23:09:14.317Z"
    }
   },
   "outputs": [],
   "source": [
    "!pip install pandas>=1.0.1"
   ]
  },
  {
   "cell_type": "code",
   "execution_count": null,
   "metadata": {
    "ExecuteTime": {
     "end_time": "2020-07-25T23:10:17.317147Z",
     "start_time": "2020-07-25T23:09:14.320Z"
    }
   },
   "outputs": [],
   "source": [
    "# !pip list numpy"
   ]
  },
  {
   "cell_type": "code",
   "execution_count": null,
   "metadata": {
    "ExecuteTime": {
     "end_time": "2020-07-25T23:10:17.318012Z",
     "start_time": "2020-07-25T23:09:14.322Z"
    }
   },
   "outputs": [],
   "source": [
    "# %conda search numpy"
   ]
  },
  {
   "cell_type": "code",
   "execution_count": null,
   "metadata": {
    "ExecuteTime": {
     "end_time": "2020-07-25T23:10:17.319037Z",
     "start_time": "2020-07-25T23:09:14.324Z"
    }
   },
   "outputs": [],
   "source": [
    "import glob\n",
    "glob.glob('*.yml')[-1]"
   ]
  },
  {
   "cell_type": "code",
   "execution_count": null,
   "metadata": {
    "ExecuteTime": {
     "end_time": "2020-07-25T23:10:17.319640Z",
     "start_time": "2020-07-25T23:09:14.327Z"
    }
   },
   "outputs": [],
   "source": [
    "with open(glob.glob('*.yml')[-1]) as file:\n",
    "    package_list = file.read()\n",
    "package_list[:10]"
   ]
  },
  {
   "cell_type": "code",
   "execution_count": null,
   "metadata": {
    "ExecuteTime": {
     "end_time": "2020-07-25T23:10:17.320770Z",
     "start_time": "2020-07-25T23:09:14.329Z"
    }
   },
   "outputs": [],
   "source": [
    "package_list.split('channel')"
   ]
  },
  {
   "cell_type": "code",
   "execution_count": null,
   "metadata": {
    "ExecuteTime": {
     "end_time": "2020-07-25T23:10:17.321733Z",
     "start_time": "2020-07-25T23:09:14.331Z"
    },
    "scrolled": false
   },
   "outputs": [],
   "source": [
    "%conda list"
   ]
  },
  {
   "cell_type": "code",
   "execution_count": null,
   "metadata": {},
   "outputs": [],
   "source": []
  }
 ],
 "metadata": {
  "kernelspec": {
   "display_name": "learn-env",
   "language": "python",
   "name": "learn-env"
  },
  "language_info": {
   "codemirror_mode": {
    "name": "ipython",
    "version": 3
   },
   "file_extension": ".py",
   "mimetype": "text/x-python",
   "name": "python",
   "nbconvert_exporter": "python",
   "pygments_lexer": "ipython3",
   "version": "3.6.11"
  },
  "toc": {
   "base_numbering": 1,
   "nav_menu": {},
   "number_sections": false,
   "sideBar": true,
   "skip_h1_title": false,
   "title_cell": "Table of Contents",
   "title_sidebar": "Contents",
   "toc_cell": true,
   "toc_position": {
    "height": "calc(100% - 180px)",
    "left": "10px",
    "top": "150px",
    "width": "320px"
   },
   "toc_section_display": true,
   "toc_window_display": true
  }
 },
 "nbformat": 4,
 "nbformat_minor": 2
}
