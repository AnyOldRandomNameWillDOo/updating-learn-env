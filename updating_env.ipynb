{
 "cells": [
  {
   "cell_type": "markdown",
   "metadata": {},
   "source": [
    "# Updating Learn-Env"
   ]
  },
  {
   "cell_type": "markdown",
   "metadata": {
    "toc": true
   },
   "source": [
    "<h1>Table of Contents<span class=\"tocSkip\"></span></h1>\n",
    "<div class=\"toc\"><ul class=\"toc-item\"><li><span><a href=\"#Updating-Learn-Env\" data-toc-modified-id=\"Updating-Learn-Env-1\">Updating Learn-Env</a></span><ul class=\"toc-item\"><li><span><a href=\"#Make-sure-you-are-in-your-learn-env\" data-toc-modified-id=\"Make-sure-you-are-in-your-learn-env-1.1\">Make sure you are in your learn-env</a></span></li><li><span><a href=\"#Once-you-are-using-learn-env,-backup-your-environment:\" data-toc-modified-id=\"Once-you-are-using-learn-env,-backup-your-environment:-1.2\">Once you are using <code>learn-env</code>, backup your environment:</a></span><ul class=\"toc-item\"><li><span><a href=\"#It-is-recommended-to-do-a-commit-after-exporting-your-env\" data-toc-modified-id=\"It-is-recommended-to-do-a-commit-after-exporting-your-env-1.2.1\">It is recommended to do a commit after exporting your env</a></span></li><li><span><a href=\"#Create-a-backup-learn-env-from-your-exported-file-above\" data-toc-modified-id=\"Create-a-backup-learn-env-from-your-exported-file-above-1.2.2\">Create a backup learn-env from your exported file above</a></span></li><li><span><a href=\"#Display-a-list-of-all-packages-and-if-they-were-installed-by-conda-or-pip\" data-toc-modified-id=\"Display-a-list-of-all-packages-and-if-they-were-installed-by-conda-or-pip-1.2.3\">Display a list of all packages and if they were installed by conda or pip</a></span></li></ul></li></ul></li><li><span><a href=\"#Desired-Package-Versions-to-Install\" data-toc-modified-id=\"Desired-Package-Versions-to-Install-2\">Desired Package Versions to Install</a></span><ul class=\"toc-item\"><li><ul class=\"toc-item\"><li><span><a href=\"#Package-Versions-to-Install\" data-toc-modified-id=\"Package-Versions-to-Install-2.0.1\">Package Versions to Install</a></span></li></ul></li></ul></li><li><span><a href=\"#Jupyer-Notebook-Extensions\" data-toc-modified-id=\"Jupyer-Notebook-Extensions-3\">Jupyer Notebook Extensions</a></span></li><li><span><a href=\"#BOOKMARK\" data-toc-modified-id=\"BOOKMARK-4\">BOOKMARK</a></span></li></ul></div>"
   ]
  },
  {
   "cell_type": "markdown",
   "metadata": {},
   "source": [
    "## Make sure you are in your learn-env"
   ]
  },
  {
   "cell_type": "markdown",
   "metadata": {},
   "source": [
    "- Run the following cell and check which env has an asterisk to the right of its name ( should be `learn-env`)\n",
    "    - If you SEE learn-env but it does not have an asterisk:\n",
    "        - Go to `Toolbar > Kernel > Change Kernel >` then select \"learn-env\" if you have it or `Python[conda env:learn-env]`.\n",
    "        - Re-run the cell below"
   ]
  },
  {
   "cell_type": "code",
   "execution_count": 6,
   "metadata": {
    "ExecuteTime": {
     "end_time": "2020-07-31T00:44:13.334611Z",
     "start_time": "2020-07-31T00:44:11.795268Z"
    },
    "tags": []
   },
   "outputs": [
    {
     "name": "stdout",
     "output_type": "stream",
     "text": [
      "# conda environments:\n",
      "#\n",
      "base                     /opt/anaconda3\n",
      "learn-env             *  /opt/anaconda3/envs/learn-env\n",
      "learn-env-backup         /opt/anaconda3/envs/learn-env-backup\n",
      "learn-env-ext            /opt/anaconda3/envs/learn-env-ext\n",
      "learn-env2               /opt/anaconda3/envs/learn-env2\n",
      "\n",
      "\n",
      "Note: you may need to restart the kernel to use updated packages.\n"
     ]
    }
   ],
   "source": [
    "## Should see a list of environments on your computer (likely only has base and learn-env)\n",
    "%conda env list"
   ]
  },
  {
   "cell_type": "markdown",
   "metadata": {},
   "source": [
    "- **If you do not see either `learn-env` or `Python[conda env:learn-env]`** you may not have activate learn-env before starting jupyter notebook. \n",
    "    - Close and Halt the notebook\n",
    "    - Quit / Terminate the terminal\n",
    "    - Then activate learn-env and launch jupyter notebook again\n",
    "    ```bash\n",
    "    conda activate learn-env\n",
    "    jupyter notebook\n",
    "    ```"
   ]
  },
  {
   "cell_type": "markdown",
   "metadata": {},
   "source": [
    "## Once you are using `learn-env`, backup your environment:"
   ]
  },
  {
   "cell_type": "markdown",
   "metadata": {},
   "source": [
    "- Blog Post:\n",
    "    - https://medium.com/@shandou/export-and-create-conda-environment-with-yml-5de619fe5a2"
   ]
  },
  {
   "cell_type": "code",
   "execution_count": 7,
   "metadata": {
    "ExecuteTime": {
     "end_time": "2020-07-31T00:44:15.624358Z",
     "start_time": "2020-07-31T00:44:15.529781Z"
    }
   },
   "outputs": [
    {
     "data": {
      "text/plain": [
       "'learn-env-updated_07-30-2020.yml'"
      ]
     },
     "execution_count": 7,
     "metadata": {},
     "output_type": "execute_result"
    }
   ],
   "source": [
    "# !pip install tzlocal\n",
    "import functions as fn\n",
    "import os\n",
    "\n",
    "env_name = fn.auto_filename_time('learn-env-updated',\n",
    "                                 timeformat='%m-%d-%Y',ext='.yml')\n",
    "env_name"
   ]
  },
  {
   "cell_type": "code",
   "execution_count": 8,
   "metadata": {
    "ExecuteTime": {
     "end_time": "2020-07-31T00:44:17.958292Z",
     "start_time": "2020-07-31T00:44:17.954649Z"
    }
   },
   "outputs": [
    {
     "data": {
      "text/plain": [
       "['functions.py',\n",
       " 'LICENSE',\n",
       " 'learn-env_07-30-2020.yml',\n",
       " '__pycache__',\n",
       " 'README.md',\n",
       " 'learn-env-updated_07-30-2020.yml',\n",
       " 'updating_env.ipynb',\n",
       " '.gitignore',\n",
       " '.gitattributes',\n",
       " '.ipynb_checkpoints',\n",
       " '.git',\n",
       " '.vscode']"
      ]
     },
     "execution_count": 8,
     "metadata": {},
     "output_type": "execute_result"
    }
   ],
   "source": [
    "os.listdir()"
   ]
  },
  {
   "cell_type": "code",
   "execution_count": 9,
   "metadata": {
    "ExecuteTime": {
     "end_time": "2020-07-31T00:44:24.627549Z",
     "start_time": "2020-07-31T00:44:19.109871Z"
    },
    "tags": []
   },
   "outputs": [
    {
     "name": "stdout",
     "output_type": "stream",
     "text": [
      "The file learn-env-updated_07-30-2020.yml already exists. Overwrite?(y/n):y\n",
      "Overwriting file...\n",
      "\n",
      "Note: you may need to restart the kernel to use updated packages.\n"
     ]
    }
   ],
   "source": [
    "## Check for pre-existing .yml file\n",
    "yml_files = list(filter(lambda file: file.endswith('.yml'),os.listdir()))\n",
    "\n",
    "\n",
    "if env_name in yml_files:\n",
    "    \n",
    "    ans = input(f'The file {env_name} already exists. Overwrite?(y/n):')\n",
    "    \n",
    "    if ans.lower()=='n':\n",
    "        env_name = env_name.replace('.yml','v2.yml')\n",
    "        print(f\"Filename changed to {env_name}\")\n",
    "        \n",
    "    else:\n",
    "        print('Overwriting file...')\n",
    "\n",
    "\n",
    "%conda env export > \"{env_name}\""
   ]
  },
  {
   "cell_type": "markdown",
   "metadata": {},
   "source": [
    "### It is recommended to do a commit after exporting your env"
   ]
  },
  {
   "cell_type": "code",
   "execution_count": 10,
   "metadata": {
    "ExecuteTime": {
     "end_time": "2020-07-31T00:44:31.787727Z",
     "start_time": "2020-07-31T00:44:28.616749Z"
    }
   },
   "outputs": [
    {
     "name": "stdout",
     "output_type": "stream",
     "text": [
      "Commit repository changes? (y/n)y\n",
      "[master 0035284] Env Backup created.\n",
      " 3 files changed, 989 insertions(+), 1210 deletions(-)\n",
      " create mode 100644 learn-env-updated_07-30-2020.yml\n",
      " rewrite updating_env.ipynb (72%)\n",
      "Changes committed.\n",
      "Push commit to GitHub? (y/n)n\n"
     ]
    }
   ],
   "source": [
    "## ask to commit\n",
    "ans = input('Commit repository changes? (y/n)')\n",
    "\n",
    "## if yes:\n",
    "if ans.lower()=='y':\n",
    "    ## Run git commands using !\n",
    "    !git add .\n",
    "    !git commit -am\"Env Backup created.\"\n",
    "    print('Changes committed.')\n",
    "    \n",
    "    ## ask to push\n",
    "    ans2 = input('Push commit to GitHub? (y/n)')\n",
    "    if ans2.lower()=='y':\n",
    "        !git push\n",
    "else:\n",
    "    print('Skipping commiting changes...')\n"
   ]
  },
  {
   "cell_type": "code",
   "execution_count": null,
   "metadata": {},
   "outputs": [],
   "source": []
  },
  {
   "cell_type": "markdown",
   "metadata": {},
   "source": [
    "### Create a backup learn-env from your exported file above"
   ]
  },
  {
   "cell_type": "code",
   "execution_count": null,
   "metadata": {
    "ExecuteTime": {
     "end_time": "2020-07-25T23:10:36.213199Z",
     "start_time": "2020-07-25T23:10:34.521387Z"
    }
   },
   "outputs": [],
   "source": [
    "ans = input(\"Clone a backup of your learn-env?(y/n)\")\n",
    "if ans.lower()=='y':\n",
    "    print('Cloning exported environment as learn-env-backup')\n",
    "    %conda env create -n \"learn-env-backup\" -f \"{env_name}\" #ironment.yml\n"
   ]
  },
  {
   "cell_type": "markdown",
   "metadata": {},
   "source": [
    "#### Make sure that `learn-env-backup` now appears in the env list"
   ]
  },
  {
   "cell_type": "code",
   "execution_count": 11,
   "metadata": {
    "ExecuteTime": {
     "end_time": "2020-07-31T00:44:37.409093Z",
     "start_time": "2020-07-31T00:44:36.158636Z"
    }
   },
   "outputs": [
    {
     "name": "stdout",
     "output_type": "stream",
     "text": [
      "# conda environments:\n",
      "#\n",
      "base                     /opt/anaconda3\n",
      "learn-env             *  /opt/anaconda3/envs/learn-env\n",
      "learn-env-backup         /opt/anaconda3/envs/learn-env-backup\n",
      "learn-env-ext            /opt/anaconda3/envs/learn-env-ext\n",
      "learn-env2               /opt/anaconda3/envs/learn-env2\n",
      "\n",
      "\n",
      "Note: you may need to restart the kernel to use updated packages.\n"
     ]
    }
   ],
   "source": [
    "%conda env list"
   ]
  },
  {
   "cell_type": "markdown",
   "metadata": {},
   "source": [
    "### Display a list of all packages and if they were installed by conda or pip"
   ]
  },
  {
   "cell_type": "code",
   "execution_count": 13,
   "metadata": {
    "ExecuteTime": {
     "end_time": "2020-07-31T00:44:41.081046Z",
     "start_time": "2020-07-31T00:44:40.545992Z"
    }
   },
   "outputs": [
    {
     "name": "stdout",
     "output_type": "stream",
     "text": [
      "\n",
      "     active environment : learn-env\n",
      "    active env location : /opt/anaconda3/envs/learn-env\n",
      "            shell level : 2\n",
      "       user config file : /Users/jamesirving/.condarc\n",
      " populated config files : /Users/jamesirving/.condarc\n",
      "          conda version : 4.8.3\n",
      "    conda-build version : 3.18.11\n",
      "         python version : 3.7.6.final.0\n",
      "       virtual packages : __osx=10.14.6\n",
      "       base environment : /opt/anaconda3  (writable)\n",
      "           channel URLs : https://conda.anaconda.org/conda-forge/osx-64\n",
      "                          https://conda.anaconda.org/conda-forge/noarch\n",
      "                          https://repo.anaconda.com/pkgs/main/osx-64\n",
      "                          https://repo.anaconda.com/pkgs/main/noarch\n",
      "                          https://repo.anaconda.com/pkgs/r/osx-64\n",
      "                          https://repo.anaconda.com/pkgs/r/noarch\n",
      "          package cache : /opt/anaconda3/pkgs\n",
      "                          /Users/jamesirving/.conda/pkgs\n",
      "       envs directories : /opt/anaconda3/envs\n",
      "                          /Users/jamesirving/.conda/envs\n",
      "               platform : osx-64\n",
      "             user-agent : conda/4.8.3 requests/2.22.0 CPython/3.7.6 Darwin/18.7.0 OSX/10.14.6\n",
      "                UID:GID : 503:20\n",
      "             netrc file : /Users/jamesirving/.netrc\n",
      "           offline mode : False\n",
      "\n",
      "\n",
      "Note: you may need to restart the kernel to use updated packages.\n"
     ]
    }
   ],
   "source": [
    "%conda info"
   ]
  },
  {
   "cell_type": "code",
   "execution_count": 3,
   "metadata": {
    "ExecuteTime": {
     "end_time": "2020-07-31T00:44:40.543514Z",
     "start_time": "2020-07-31T00:44:38.524989Z"
    },
    "scrolled": false,
    "tags": [
     "outputPrepend"
    ]
   },
   "outputs": [
    {
     "output_type": "stream",
     "name": "stdout",
     "text": "0                      py_0    conda-forge\ncolorlover                0.3.0                    pypi_0    pypi\nconfuse                   1.3.0                    pypi_0    pypi\ncoverage                  4.5.4                    pypi_0    pypi\ncryptography              3.0              py36h54f4bc5_0    conda-forge\ncryptography-vectors      3.0                pyh9f0ad1d_0    conda-forge\ncufflinks                 0.17.3                   pypi_0    pypi\ncycler                    0.10.0                     py_2    conda-forge\ncython                    0.29.21          py36h0130604_0    conda-forge\ndash                      1.14.0                   pypi_0    pypi\ndash-core-components      1.10.2                   pypi_0    pypi\ndash-html-components      1.0.3              pyh9f0ad1d_0    conda-forge\ndash-renderer             1.6.0                    pypi_0    pypi\ndash-table                4.9.0                    pypi_0    pypi\ndbus                      1.13.6               h2f22bb5_0    conda-forge\ndecorator                 4.4.2                      py_0    conda-forge\ndefusedxml                0.6.0                      py_0    conda-forge\ndistlib                   0.3.1                    pypi_0    pypi\ndjango                    3.1                      pypi_0    pypi\ndjango-bootstrap4         2.2.0                    pypi_0    pypi\ndjango-plotly-dash        1.4.2                    pypi_0    pypi\ndocutils                  0.15.2                   py36_0    conda-forge\ndpd-components            0.1.0                    pypi_0    pypi\ndpd-static-support        0.0.5                    pypi_0    pypi\nentrypoints               0.3             py36h9f0ad1d_1001    conda-forge\net-xmlfile                1.0.1                    pypi_0    pypi\nexpat                     2.2.9                h4a8c4bd_2    conda-forge\nfake-useragent            0.1.11                   pypi_0    pypi\nfeature-engine            0.6.0                    pypi_0    pypi\nfilelock                  3.0.12                   pypi_0    pypi\nflake8                    3.7.8                    pypi_0    pypi\nflask                     1.1.2              pyh9f0ad1d_0    conda-forge\nflask-compress            1.5.0              pyh9f0ad1d_0    conda-forge\nfontconfig                2.13.1            h6b1039f_1001    conda-forge\nfreetype                  2.10.2               h8da9a1a_0    conda-forge\nfribidi                   1.0.10               h0b31af3_0    conda-forge\nfsds                      0.2.23                   pypi_0    pypi\nfsds-100719               0.7.22                   pypi_0    pypi\nfuture                    0.18.2           py36h9f0ad1d_1    conda-forge\ngensim                    3.8.3                    pypi_0    pypi\ngettext                   0.19.8.1          h46ab8bc_1002    conda-forge\nglib                      2.65.0               h577aef8_0    conda-forge\ngmp                       5.1.2                         6    conda-forge\ngoogle-api-core           1.22.0           py36h9f0ad1d_1    conda-forge\ngoogle-auth               1.20.0                     py_0    conda-forge\ngoogle-cloud-core         1.3.0                      py_0    conda-forge\ngoogle-cloud-storage      1.30.0             pyh9f0ad1d_0    conda-forge\ngoogle-crc32c             0.1.0            py36h2de3d0e_1    conda-forge\ngoogle-resumable-media    0.7.0              pyh9f0ad1d_0    conda-forge\ngoogleapis-common-protos  1.51.0           py36h9f0ad1d_2    conda-forge\ngraphite2                 1.3.13            h12caacf_1001    conda-forge\ngraphviz                  2.42.3               h98dfb87_0    conda-forge\nharfbuzz                  2.4.0                hd8d2a14_3    conda-forge\nhdf5                      1.10.5          nompi_h0cbb7df_1103    conda-forge\nhtmlmin                   0.1.12                   pypi_0    pypi\nicu                       64.2                 h6de7cb9_1    conda-forge\nidna                      2.10               pyh9f0ad1d_0    conda-forge\nidna-ssl                  1.1.0                    pypi_0    pypi\nimagehash                 4.1.0                    pypi_0    pypi\nimagesize                 1.2.0                      py_0    conda-forge\nimdbpy                    6.8                      pypi_0    pypi\nimportlib-metadata        0.23                     pypi_0    pypi\nimportlib-resources       3.0.0                    pypi_0    pypi\nimportlib_metadata        1.7.0                         0    conda-forge\nintel-openmp              2019.4                      233  \nipykernel                 5.3.4            py36h95af2a2_0    conda-forge\nipython                   7.16.1           py36h95af2a2_0    conda-forge\nipython_genutils          0.2.0                      py_1    conda-forge\nipywidgets                7.5.1                      py_0    conda-forge\nisl                       0.12.2                        1    conda-forge\nisort                     5.2.2            py36h9f0ad1d_0    conda-forge\nitsdangerous              1.1.0                      py_0    conda-forge\njdcal                     1.4.1                    pypi_0    pypi\njedi                      0.17.2           py36h9f0ad1d_0    conda-forge\njinja2                    2.11.2             pyh9f0ad1d_0    conda-forge\njmespath                  0.10.0             pyh9f0ad1d_0    conda-forge\njoblib                    0.16.0                     py_0    conda-forge\njpeg                      9d                   h0b31af3_0    conda-forge\njsonpickle                1.4.1                    pypi_0    pypi\njsonschema                3.2.0            py36h9f0ad1d_1    conda-forge\njupyter                   1.0.0                    pypi_0    pypi\njupyter-dash              0.2.1.post1                py_0    plotly\njupyter-plotly-dash       0.4.2                    pypi_0    pypi\njupyter_client            6.1.6                      py_0    conda-forge\njupyter_console           6.1.0                      py_1    conda-forge\njupyter_contrib_core      0.3.3                      py_2    conda-forge\njupyter_contrib_nbextensions 0.5.1                    py36_0    conda-forge\njupyter_core              4.6.3            py36h9f0ad1d_1    conda-forge\njupyter_highlight_selected_word 0.2.0                 py36_1000    conda-forge\njupyter_latex_envs        1.4.4                 py36_1000    conda-forge\njupyter_nbextensions_configurator 0.4.1            py36h9f0ad1d_1    conda-forge\nkaggle                    1.5.6                    pypi_0    pypi\nkeyring                   21.2.1           py36h9f0ad1d_0    conda-forge\nkiwisolver                1.2.0            py36h863e41a_0    conda-forge\nkrb5                      1.17.1               h14dd6a4_2    conda-forge\nlazy-object-proxy         1.5.1            py36h9de38fb_0    conda-forge\nlibblas                   3.8.0                    14_mkl    conda-forge\nlibcblas                  3.8.0                    14_mkl    conda-forge\nlibclang                  9.0.1           default_hf57f61e_0    conda-forge\nlibcrc32c                 1.1.1                hb1e8313_2    conda-forge\nlibcxx                    10.0.1               h5f48129_0    conda-forge\nlibcxxabi                 4.0.1                hcfea43d_1    conda-forge\nlibedit                   3.1.20191231         hed1e85f_1    conda-forge\nlibffi                    3.2.1             h4a8c4bd_1007    conda-forge\nlibgfortran               3.0.1                         0    conda-forge\nlibiconv                  1.15              h0b31af3_1006    conda-forge\nliblapack                 3.8.0                    14_mkl    conda-forge\nlibllvm9                  9.0.1                h7475705_1    conda-forge\nlibpng                    1.6.37               hbbe82c9_1    conda-forge\nlibpq                     12.3                 h489d428_0    conda-forge\nlibprotobuf               3.12.3               hab81aa3_2    conda-forge\nlibsodium                 1.0.17               h01d97ff_0    conda-forge\nlibtiff                   4.1.0                h2ae36a8_6    conda-forge\nlibwebp-base              1.1.0                h0b31af3_3    conda-forge\nlibxgboost                1.1.1                h4a8c4bd_0    conda-forge\nlibxml2                   2.9.10               h53d96d6_0    conda-forge\nlibxslt                   1.1.33               h320ff13_0    conda-forge\nllvm-openmp               10.0.1               h28b9765_0    conda-forge\nllvmlite                  0.33.0                   pypi_0    pypi\nlxml                      4.5.2            py36h2ab0afd_0    conda-forge\nlz4-c                     1.9.2                h4a8c4bd_1    conda-forge\nmarkupsafe                1.1.1            py36h37b9a7d_1    conda-forge\nmatplotlib                3.3.0                    pypi_0    pypi\nmccabe                    0.6.1                      py_1    conda-forge\nmissingno                 0.4.2                    pypi_0    pypi\nmistune                   0.8.4           py36h37b9a7d_1001    conda-forge\nmkl                       2019.5                      281    conda-forge\nmkl-service               2.3.0            py36h0b31af3_0    conda-forge\nmkl_fft                   1.1.0            py36h3b54f70_1    conda-forge\nmkl_random                1.1.1            py36h959d312_0  \nmpc                       1.1.0                         4    conda-forge\nmpfr                      3.1.5                         0    conda-forge\nmultidict                 4.7.6                    pypi_0    pypi\nnb_conda                  2.2.1                    py36_2    conda-forge\nnb_conda_kernels          2.2.3                    py36_0    conda-forge\nnbconvert                 5.6.1            py36h9f0ad1d_1    conda-forge\nnbformat                  5.0.7                      py_0    conda-forge\nnbserverproxy             0.8.8                    pypi_0    pypi\nncurses                   6.2                  hb1e8313_1    conda-forge\nnetworkx                  2.4                      pypi_0    pypi\nnltk                      3.4.4                      py_0    conda-forge\nnotebook                  6.0.3            py36h9f0ad1d_1    conda-forge\nnspr                      4.20              h0a44026_1000    conda-forge\nnss                       3.47                 hc0980d9_0    conda-forge\nnumba                     0.50.1                   pypi_0    pypi\nnumpy                     1.19.1           py36h4a66613_0    conda-forge\nnumpydoc                  1.1.0              pyh9f0ad1d_0    conda-forge\noauthlib                  3.1.0                    pypi_0    pypi\nopenpyxl                  3.0.4                    pypi_0    pypi\nopenssl                   1.1.1g               h0b31af3_1    conda-forge\npackaging                 20.4               pyh9f0ad1d_0    conda-forge\npandas                    1.1.0            py36h27176af_0    conda-forge\npandas-profiling          2.8.0                    pypi_0    pypi\npandasql                  0.7.3                    pypi_0    pypi\npandoc                    2.10.1               haf1e3a3_0    conda-forge\npandocfilters             1.4.2                      py_1    conda-forge\npango                     1.42.4               haa940fe_4    conda-forge\nparso                     0.7.1              pyh9f0ad1d_0    conda-forge\npathtools                 0.1.2                    pypi_0    pypi\npatsy                     0.5.1                      py_0    conda-forge\npcre                      8.44                 h4a8c4bd_0    conda-forge\npexpect                   4.8.0            py36h9f0ad1d_1    conda-forge\nphik                      0.10.0                   pypi_0    pypi\npickleshare               0.7.5           py36h9f0ad1d_1001    conda-forge\npillow                    7.2.0                    pypi_0    pypi\npip                       19.2.3                   pypi_0    pypi\npixman                    0.38.0            h01d97ff_1003    conda-forge\npkginfo                   1.5.0.1                  pypi_0    pypi\nplotly                    4.9.0              pyh9f0ad1d_0    conda-forge\npluggy                    0.13.1                   pypi_0    pypi\npprint                    0.1                      pypi_0    pypi\nprometheus_client         0.8.0              pyh9f0ad1d_0    conda-forge\nprompt-toolkit            3.0.5                      py_1    conda-forge\nprompt_toolkit            3.0.5                         1    conda-forge\nprotobuf                  3.12.3           py36h0130604_0    conda-forge\npsutil                    5.7.2            py36h9de38fb_0    conda-forge\nptyprocess                0.6.0                   py_1001    conda-forge\npy                        1.9.0                    pypi_0    pypi\npy4j                      0.10.9             pyh9f0ad1d_0    conda-forge\npyasn1                    0.4.8                      py_0    conda-forge\npyasn1-modules            0.2.7                      py_0    conda-forge\npycodestyle               2.5.0                    pypi_0    pypi\npycparser                 2.20               pyh9f0ad1d_2    conda-forge\npydotplus                 2.0.2              pyhd1c1de3_3    conda-forge\npyflakes                  2.1.1                    pypi_0    pypi\npygments                  2.6.1                      py_0    conda-forge\npylint                    1.8.4                    py36_0    conda-forge\npyopenssl                 19.1.0                     py_1    conda-forge\npyparsing                 2.4.7              pyh9f0ad1d_0    conda-forge\npyperclip                 1.8.0                    pypi_0    pypi\npyqt                      5.12.3           py36haa9e2f4_3    conda-forge\npyqt5-sip                 4.19.18                  pypi_0    pypi\npyqtchart                 5.12                     pypi_0    pypi\npyqtwebengine             5.12.1                   pypi_0    pypi\npyrsistent                0.16.0           py36h37b9a7d_0    conda-forge\npysocks                   1.7.1            py36h9f0ad1d_1    conda-forge\npython                    3.6.11          h5d1cf6b_1_cpython    conda-forge\npython-dateutil           2.8.1                      py_0    conda-forge\npython-graphviz           0.14.1                   pypi_0    pypi\npython-slugify            4.0.1                    pypi_0    pypi\npython.app                1.3              py36h37b9a7d_1    conda-forge\npython_abi                3.6                     1_cp36m    conda-forge\npytz                      2020.1             pyh9f0ad1d_0    conda-forge\npywavelets                1.1.1                    pypi_0    pypi\npyyaml                    5.3.1            py36h37b9a7d_0    conda-forge\npyzmq                     19.0.1           py36h820b253_0    conda-forge\nqgrid                     1.3.1                    pypi_0    pypi\nqt                        5.12.5               h514805e_3    conda-forge\nqtawesome                 0.7.2              pyh9f0ad1d_0    conda-forge\nqtconsole                 4.7.5              pyh9f0ad1d_0    conda-forge\nqtpy                      1.9.0                      py_0    conda-forge\nreadline                  8.0                  h0678c8f_2    conda-forge\nreadme-renderer           26.0                     pypi_0    pypi\nrequests                  2.24.0             pyh9f0ad1d_0    conda-forge\nrequests-oauthlib         1.3.0                    pypi_0    pypi\nrequests-toolbelt         0.9.1                    pypi_0    pypi\nretrying                  1.3.3                      py_2    conda-forge\nrope                      0.17.0             pyh9f0ad1d_0    conda-forge\nrsa                       4.6                pyh9f0ad1d_0    conda-forge\ns3transfer                0.3.3            py36h9f0ad1d_1    conda-forge\nscikit-learn              0.23.1           py36hef903b7_0    conda-forge\nscipy                     1.2.1            py36hbd7caa9_1    conda-forge\nseaborn                   0.10.1                   pypi_0    pypi\nselenium                  3.141.0                  pypi_0    pypi\nsend2trash                1.5.0                      py_0    conda-forge\nsetuptools                49.2.0           py36h9f0ad1d_0    conda-forge\nsimplegeneric             0.8.1                      py_1    conda-forge\nsip                       4.19.23          py36h0130604_0    conda-forge\nsix                       1.15.0             pyh9f0ad1d_0    conda-forge\nsmart_open                2.1.0              pyh9f0ad1d_0    conda-forge\nsnowballstemmer           2.0.0                      py_0    conda-forge\nsoupsieve                 2.0.1            py36h9f0ad1d_0    conda-forge\nsphinx                    1.8.5                    pypi_0    pypi\nsphinxcontrib-applehelp   1.0.2                      py_0    conda-forge\nsphinxcontrib-devhelp     1.0.2                      py_0    conda-forge\nsphinxcontrib-htmlhelp    1.0.3                      py_0    conda-forge\nsphinxcontrib-jsmath      1.0.1                      py_0    conda-forge\nsphinxcontrib-qthelp      1.0.3                      py_0    conda-forge\nsphinxcontrib-serializinghtml 1.1.4                      py_0    conda-forge\nsphinxcontrib-websupport  1.2.4                    pypi_0    pypi\nspyder                    3.3.6                    py36_0  \nspyder-kernels            0.5.2                    py36_0    conda-forge\nsqlalchemy                1.3.18                   pypi_0    pypi\nsqlite                    3.32.3               h93121df_1    conda-forge\nsqlparse                  0.3.1                    pypi_0    pypi\nstatsmodels               0.11.1           py36h37b9a7d_2    conda-forge\ntangled-up-in-unicode     0.0.6                    pypi_0    pypi\nterminado                 0.8.3            py36h9f0ad1d_1    conda-forge\ntestpath                  0.4.4                      py_0    conda-forge\ntext-unidecode            1.3                      pypi_0    pypi\nthreadpoolctl             2.1.0              pyh5ca1d4c_0    conda-forge\ntk                        8.6.10               hbbe82c9_0    conda-forge\ntoml                      0.10.1                   pypi_0    pypi\ntornado                   6.0.4            py36h37b9a7d_1    conda-forge\ntox                       3.14.0                   pypi_0    pypi\ntqdm                      4.48.0                   pypi_0    pypi\ntraitlets                 4.3.3            py36h9f0ad1d_1    conda-forge\ntweepy                    3.9.0                    pypi_0    pypi\ntwine                     1.14.0                   pypi_0    pypi\ntyping-extensions         3.7.4.2                  pypi_0    pypi\ntzlocal                   2.1                      pypi_0    pypi\nurllib3                   1.24.3                   pypi_0    pypi\nvirtualenv                20.0.31                  pypi_0    pypi\nvisions                   0.4.4                    pypi_0    pypi\nwatchdog                  0.9.0                    pypi_0    pypi\nwcwidth                   0.2.5              pyh9f0ad1d_1    conda-forge\nwebencodings              0.5.1                      py_1    conda-forge\nwerkzeug                  1.0.1              pyh9f0ad1d_0    conda-forge\nwheel                     0.33.6                   pypi_0    pypi\nwidgetsnbextension        3.5.1            py36h9f0ad1d_1    conda-forge\nwordcloud                 1.7.0                    pypi_0    pypi\nwrapt                     1.12.1           py36h37b9a7d_1    conda-forge\nwurlitzer                 2.0.0            py36h9f0ad1d_1    conda-forge\nxgboost                   1.1.1                    pypi_0    pypi\nxlrd                      1.2.0              pyh9f0ad1d_1    conda-forge\nxz                        5.2.5                h0b31af3_1    conda-forge\nyaml                      0.2.5                h0b31af3_0    conda-forge\nyarl                      1.5.1                    pypi_0    pypi\nzeromq                    4.3.2                h6de7cb9_2    conda-forge\nzipp                      3.1.0                      py_0    conda-forge\nzlib                      1.2.11            h0b31af3_1006    conda-forge\nzstd                      1.4.5                h0384e3a_2    conda-forge\n\nNote: you may need to restart the kernel to use updated packages.\n"
    }
   ],
   "source": [
    "%conda list"
   ]
  },
  {
   "cell_type": "code",
   "execution_count": 5,
   "metadata": {
    "tags": []
   },
   "outputs": [
    {
     "output_type": "stream",
     "name": "stdout",
     "text": "done\n\\ \nThe environment is inconsistent, please check the package plan carefully\nThe following packages are causing the inconsistency:\n\n  - conda-forge/noarch::py4j==0.10.9=pyh9f0ad1d_0\n  - conda-forge/osx-64::pango==1.42.4=haa940fe_4\n  - conda-forge/noarch::pygments==2.6.1=py_0\n  - conda-forge/osx-64::pyzmq==19.0.1=py36h820b253_0\n  - conda-forge/noarch::pyasn1-modules==0.2.7=py_0\n  - conda-forge/osx-64::jupyter_highlight_selected_word==0.2.0=py36_1000\n  - conda-forge/osx-64::keyring==21.2.1=py36h9f0ad1d_0\n  - conda-forge/noarch::requests==2.24.0=pyh9f0ad1d_0\n  - conda-forge/noarch::jupyter_console==6.1.0=py_1\n  - conda-forge/osx-64::pyqt==5.12.3=py36haa9e2f4_3\n  - conda-forge/noarch::idna==2.10=pyh9f0ad1d_0\n  - conda-forge/osx-64::spyder-kernels==0.5.2=py36_0\n  - conda-forge/noarch::boto3==1.14.32=pyh9f0ad1d_0\n  - conda-forge/noarch::sphinxcontrib-qthelp==1.0.3=py_0\n  - conda-forge/noarch::rope==0.17.0=pyh9f0ad1d_0\n  - plotly/noarch::chart-studio==1.1.0=py_0\n  - conda-forge/osx-64::harfbuzz==2.4.0=hd8d2a14_3\n  - conda-forge/noarch::retrying==1.3.3=py_2\n  - conda-forge/noarch::mccabe==0.6.1=py_1\n  - conda-forge/noarch::cachetools==4.1.1=py_0\n  - conda-forge/noarch::backports.functools_lru_cache==1.6.1=py_0\n  - conda-forge/osx-64::psutil==5.7.2=py36h9de38fb_0\n  - conda-forge/noarch::nltk==3.4.4=py_0\n  - conda-forge/noarch::sphinxcontrib-serializinghtml==1.1.4=py_0\n  - conda-forge/osx-64::astroid==1.6.5=py36_0\n  - conda-forge/noarch::pycparser==2.20=pyh9f0ad1d_2\n  - conda-forge/osx-64::pysocks==1.7.1=py36h9f0ad1d_1\n  - conda-forge/osx-64::docutils==0.15.2=py36_0\n  - conda-forge/osx-64::mkl-service==2.3.0=py36h0b31af3_0\n  - conda-forge/osx-64::jsonschema==3.2.0=py36h9f0ad1d_1\n  - conda-forge/noarch::packaging==20.4=pyh9f0ad1d_0\n  - conda-forge/noarch::jupyter==1.0.0=py_2\n  - conda-forge/noarch::backcall==0.2.0=pyh9f0ad1d_0\n  - conda-forge/osx-64::python==3.6.11=h5d1cf6b_1_cpython\n  - conda-forge/noarch::wcwidth==0.2.5=pyh9f0ad1d_1\n  - conda-forge/osx-64::dbus==1.13.6=h2f22bb5_0\n  - conda-forge/osx-64::soupsieve==2.0.1=py36h9f0ad1d_0\n  - defaults/osx-64::mkl_random==1.1.1=py36h959d312_0\n  - conda-forge/noarch::flask==1.1.2=pyh9f0ad1d_0\n  - conda-forge/osx-64::notebook==6.0.3=py36h9f0ad1d_1\n  - conda-forge/noarch::threadpoolctl==2.1.0=pyh5ca1d4c_0\n  - plotly/noarch::jupyter-dash==0.2.1.post1=py_0\n  - conda-forge/osx-64::statsmodels==0.11.1=py36h37b9a7d_2\n  - conda-forge/noarch::pyasn1==0.4.8=py_0\n  - conda-forge/osx-64::terminado==0.8.3=py36h9f0ad1d_1\n  - conda-forge/noarch::ipywidgets==7.5.1=py_0\n  - conda-forge/noarch::decorator==4.4.2=py_0\n  - conda-forge/noarch::prometheus_client==0.8.0=pyh9f0ad1d_0\n  - conda-forge/noarch::cryptography-vectors==3.0=pyh9f0ad1d_0\n  - conda-forge/osx-64::cairo==1.16.0=hec6a9b0_1003\n  - conda-forge/osx-64::isort==5.2.2=py36h9f0ad1d_0\n  - conda-forge/noarch::snowballstemmer==2.0.0=py_0\n  - conda-forge/noarch::plotly==4.9.0=pyh9f0ad1d_0\n  - conda-forge/noarch::backports==1.0=py_2\n  - conda-forge/noarch::bz2file==0.98=py_0\n  - conda-forge/noarch::webencodings==0.5.1=py_1\n  - conda-forge/noarch::pandocfilters==1.4.2=py_1\n  - conda-forge/osx-64::pylint==1.8.4=py36_0\n  - conda-forge/osx-64::pandas==1.1.0=py36h27176af_0\n  - conda-forge/noarch::importlib_metadata==1.7.0=0\n  - conda-forge/osx-64::s3transfer==0.3.3=py36h9f0ad1d_1\n  - conda-forge/noarch::itsdangerous==1.1.0=py_0\n  - conda-forge/noarch::pydotplus==2.0.2=pyhd1c1de3_3\n  - conda-forge/noarch::testpath==0.4.4=py_0\n  - conda-forge/osx-64::lxml==4.5.2=py36h2ab0afd_0\n  - conda-forge/noarch::sphinxcontrib-devhelp==1.0.2=py_0\n  - conda-forge/osx-64::googleapis-common-protos==1.51.0=py36h9f0ad1d_2\n  - conda-forge/noarch::botocore==1.17.32=pyh9f0ad1d_0\n  - conda-forge/noarch::google-resumable-media==0.7.0=pyh9f0ad1d_0\n  - conda-forge/noarch::dash-html-components==1.0.3=pyh9f0ad1d_0\n  - conda-forge/osx-64::cython==0.29.21=py36h0130604_0\n  - conda-forge/osx-64::setuptools==49.2.0=py36h9f0ad1d_0\n  - conda-forge/osx-64::pip==19.2.3=py36_0\n  - conda-forge/osx-64::mistune==0.8.4=py36h37b9a7d_1001\n  - conda-forge/osx-64::nb_conda_kernels==2.2.3=py36_0\n  - conda-forge/noarch::sphinxcontrib-htmlhelp==1.0.3=py_0\n  - conda-forge/osx-64::google-api-core==1.22.0=py36h9f0ad1d_1\n  - conda-forge/noarch::click==7.1.2=pyh9f0ad1d_0\n  - conda-forge/noarch::google-auth==1.20.0=py_0\n  - conda-forge/noarch::smart_open==2.1.0=pyh9f0ad1d_0\n  - conda-forge/noarch::flask-compress==1.5.0=pyh9f0ad1d_0\n  - conda-forge/osx-64::chardet==3.0.4=py36h9f0ad1d_1006\n  - defaults/osx-64::spyder==3.3.6=py36_0\n  - conda-forge/osx-64::python.app==1.3=py36h37b9a7d_1\n  - conda-forge/noarch::jupyter_client==6.1.6=py_0\n  - conda-forge/osx-64::nb_conda==2.2.1=py36_2\n  - conda-forge/noarch::nbformat==5.0.7=py_0\n  - conda-forge/noarch::simplegeneric==0.8.1=py_1\n  - conda-forge/osx-64::kiwisolver==1.2.0=py36h863e41a_0\n  - conda-forge/noarch::pyparsing==2.4.7=pyh9f0ad1d_0\n  - conda-forge/osx-64::pyrsistent==0.16.0=py36h37b9a7d_0\n  - conda-forge/osx-64::sip==4.19.23=py36h0130604_0\n  - conda-forge/noarch::defusedxml==0.6.0=py_0\n  - conda-forge/osx-64::pickleshare==0.7.5=py36h9f0ad1d_1001\n  - conda-forge/osx-64::markupsafe==1.1.1=py36h37b9a7d_1\n  - conda-forge/osx-64::appnope==0.1.0=py36h9f0ad1d_1001\n  - conda-forge/osx-64::traitlets==4.3.3=py36h9f0ad1d_1\n  - conda-forge/osx-64::brotlipy==0.7.0=py36h37b9a7d_1000\n  - conda-forge/noarch::werkzeug==1.0.1=pyh9f0ad1d_0\n  - conda-forge/noarch::cloudpickle==1.5.0=py_0\n  - conda-forge/osx-64::numpy==1.19.1=py36h4a66613_0\n  - conda-forge/noarch::pyopenssl==19.1.0=py_1\n  - conda-forge/noarch::alabaster==0.7.12=py_0\n  - conda-forge/osx-64::protobuf==3.12.3=py36h0130604_0\n  - conda-forge/osx-64::jupyter_latex_envs==1.4.4=py36_1000\n  - conda-forge/noarch::asn1crypto==1.4.0=pyh9f0ad1d_0\n  - conda-forge/noarch::jupyter_contrib_core==0.3.3=py_2\n  - conda-forge/noarch::babel==2.8.0=py_0\n  - conda-forge/noarch::send2trash==1.5.0=py_0\n  - conda-forge/osx-64::google-crc32c==0.1.0=py36h2de3d0e_1\n  - conda-forge/osx-64::jupyter_contrib_nbextensions==0.5.1=py36_0\n  - conda-forge/noarch::google-cloud-core==1.3.0=py_0\n  - conda-forge/noarch::pytz==2020.1=pyh9f0ad1d_0\n  - conda-forge/noarch::attrs==19.3.0=py_0\n  - conda-forge/noarch::qtconsole==4.7.5=pyh9f0ad1d_0\n  - conda-forge/osx-64::wrapt==1.12.1=py36h37b9a7d_1\n  - conda-forge/osx-64::pyyaml==5.3.1=py36h37b9a7d_0\n  - conda-forge/noarch::sphinxcontrib-applehelp==1.0.2=py_0\n  - conda-forge/noarch::xlrd==1.2.0=pyh9f0ad1d_1\n  - conda-forge/osx-64::glib==2.65.0=h577aef8_0\n  - conda-forge/noarch::qtawesome==0.7.2=pyh9f0ad1d_0\n  - conda-forge/noarch::cycler==0.10.0=py_2\n  - conda-forge/noarch::jinja2==2.11.2=pyh9f0ad1d_0\n  - conda-forge/noarch::patsy==0.5.1=py_0\n  - conda-forge/osx-64::certifi==2020.6.20=py36h9f0ad1d_0\n  - conda-forge/noarch::sphinxcontrib-jsmath==1.0.1=py_0\n  - conda-forge/noarch::prompt-toolkit==3.0.5=py_1\n  - conda-forge/noarch::numpydoc==1.1.0=pyh9f0ad1d_0\n  - conda-forge/osx-64::wurlitzer==2.0.0=py36h9f0ad1d_1\n  - conda-forge/osx-64::lazy-object-proxy==1.5.1=py36h9de38fb_0\n  - conda-forge/osx-64::entrypoints==0.3=py36h9f0ad1d_1001\n  - conda-forge/osx-64::ipython==7.16.1=py36h95af2a2_0\n  - conda-forge/noarch::bleach==3.1.5=pyh9f0ad1d_0\n  - conda-forge/osx-64::cryptography==3.0=py36h54f4bc5_0\n  - conda-forge/noarch::google-cloud-storage==1.30.0=pyh9f0ad1d_0\n  - conda-forge/osx-64::jupyter_nbextensions_configurator==0.4.1=py36h9f0ad1d_1\n  - conda-forge/noarch::prompt_toolkit==3.0.5=1\n  - conda-forge/noarch::zipp==3.1.0=py_0\n  - conda-forge/osx-64::python_abi==3.6=1_cp36m\n  - conda-forge/noarch::jmespath==0.10.0=pyh9f0ad1d_0\n  - conda-forge/osx-64::mkl_fft==1.1.0=py36h3b54f70_1\n  - conda-forge/osx-64::jedi==0.17.2=py36h9f0ad1d_0\n  - conda-forge/osx-64::widgetsnbextension==3.5.1=py36h9f0ad1d_1\n  - conda-forge/noarch::boto==2.49.0=py_0\n  - conda-forge/noarch::imagesize==1.2.0=py_0\n  - conda-forge/noarch::parso==0.7.1=pyh9f0ad1d_0\n  - conda-forge/osx-64::future==0.18.2=py36h9f0ad1d_1\n  - conda-forge/noarch::ptyprocess==0.6.0=py_1001\n  - conda-forge/osx-64::ipykernel==5.3.4=py36h95af2a2_0\n  - conda-forge/noarch::joblib==0.16.0=py_0\n  - conda-forge/osx-64::pexpect==4.8.0=py36h9f0ad1d_1\n  - conda-forge/osx-64::nbconvert==5.6.1=py36h9f0ad1d_1\n  - conda-forge/noarch::ipython_genutils==0.2.0=py_1\n  - conda-forge/osx-64::cffi==1.14.1=py36h6a9c9ac_0\n  - conda-forge/osx-64::beautifulsoup4==4.9.1=py36h9f0ad1d_0\n  - conda-forge/osx-64::scipy==1.2.1=py36hbd7caa9_1\n  - conda-forge/osx-64::tornado==6.0.4=py36h37b9a7d_1\n  - conda-forge/osx-64::ansi2html==1.5.2=py36h9f0ad1d_1\n  - conda-forge/noarch::python-dateutil==2.8.1=py_0\n  - conda-forge/noarch::six==1.15.0=pyh9f0ad1d_0\n  - conda-forge/osx-64::jupyter_core==4.6.3=py36h9f0ad1d_1\n  - conda-forge/noarch::qtpy==1.9.0=py_0\n  - conda-forge/osx-64::scikit-learn==0.23.1=py36hef903b7_0\n  - conda-forge/noarch::rsa==4.6=pyh9f0ad1d_0\ndone\n\n\n==> WARNING: A newer version of conda exists. <==\n  current version: 4.8.3\n  latest version: 4.8.4\n\nPlease update conda by running\n\n    $ conda update -n base conda\n\n\n\n## Package Plan ##\n\n  environment location: /opt/anaconda3/envs/learn-env\n\n  added / updated specs:\n    - scikit-learn\n\n\nThe following packages will be downloaded:\n\n    package                    |            build\n    ---------------------------|-----------------\n    dash-1.14.0                |     pyh9f0ad1d_0          65 KB  conda-forge\n    dash-core-components-1.10.2|     pyh9f0ad1d_0         2.8 MB  conda-forge\n    dash-renderer-1.6.0        |     pyh9f0ad1d_0         944 KB  conda-forge\n    dash-table-4.9.0           |     pyh9f0ad1d_0         1.5 MB  conda-forge\n    krb5-1.17.1                |       h75d18d8_2         1.3 MB  conda-forge\n    lz4-c-1.9.2                |       hb1e8313_3         152 KB  conda-forge\n    numpy-1.19.1               |   py36h3b9f5b6_0          21 KB\n    numpy-base-1.19.1          |   py36hcfb5961_0         4.0 MB\n    openssl-1.1.1g             |       haf1e3a3_1         1.9 MB  conda-forge\n    scikit-learn-0.23.2        |   py36h959d312_0         4.7 MB\n    scipy-1.5.2                |   py36h912ce22_0        13.4 MB\n    sphinx-3.2.1               |             py_0         1.4 MB  conda-forge\n    wheel-0.35.1               |     pyh9f0ad1d_0          29 KB  conda-forge\n    ------------------------------------------------------------\n                                           Total:        32.1 MB\n\nThe following NEW packages will be INSTALLED:\n\n  dash               conda-forge/noarch::dash-1.14.0-pyh9f0ad1d_0\n  dash-core-compone~ conda-forge/noarch::dash-core-components-1.10.2-pyh9f0ad1d_0\n  dash-renderer      conda-forge/noarch::dash-renderer-1.6.0-pyh9f0ad1d_0\n  dash-table         conda-forge/noarch::dash-table-4.9.0-pyh9f0ad1d_0\n  importlib-metadata conda-forge/osx-64::importlib-metadata-1.7.0-py36h9f0ad1d_0\n  numpy-base         pkgs/main/osx-64::numpy-base-1.19.1-py36hcfb5961_0\n  pycodestyle        conda-forge/noarch::pycodestyle-2.6.0-pyh9f0ad1d_0\n  pyflakes           conda-forge/noarch::pyflakes-2.2.0-pyh9f0ad1d_0\n  sphinx             conda-forge/noarch::sphinx-3.2.1-py_0\n  urllib3            conda-forge/noarch::urllib3-1.25.10-py_0\n  wheel              conda-forge/noarch::wheel-0.35.1-pyh9f0ad1d_0\n\nThe following packages will be UPDATED:\n\n  lz4-c                                    1.9.2-h4a8c4bd_1 --> 1.9.2-hb1e8313_3\n  scikit-learn       conda-forge::scikit-learn-0.23.1-py36~ --> pkgs/main::scikit-learn-0.23.2-py36h959d312_0\n  scipy              conda-forge::scipy-1.2.1-py36hbd7caa9~ --> pkgs/main::scipy-1.5.2-py36h912ce22_0\n\nThe following packages will be SUPERSEDED by a higher-priority channel:\n\n  numpy              conda-forge::numpy-1.19.1-py36h4a6661~ --> pkgs/main::numpy-1.19.1-py36h3b9f5b6_0\n\nThe following packages will be DOWNGRADED:\n\n  krb5                                    1.17.1-h14dd6a4_2 --> 1.17.1-h75d18d8_2\n  openssl                                 1.1.1g-h0b31af3_1 --> 1.1.1g-haf1e3a3_1\n\n\n\nDownloading and Extracting Packages\nlz4-c-1.9.2          | 152 KB    | ##################################### | 100% \nsphinx-3.2.1         | 1.4 MB    | ##################################### | 100% \nnumpy-base-1.19.1    | 4.0 MB    | ##################################### | 100% \nscipy-1.5.2          | 13.4 MB   | ##################################### | 100% \nwheel-0.35.1         | 29 KB     | ##################################### | 100% \nscikit-learn-0.23.2  | 4.7 MB    | ##################################### | 100% \ndash-core-components | 2.8 MB    | ##################################### | 100% \nkrb5-1.17.1          | 1.3 MB    | ##################################### | 100% \ndash-1.14.0          | 65 KB     | ##################################### | 100% \ndash-renderer-1.6.0  | 944 KB    | ##################################### | 100% \ndash-table-4.9.0     | 1.5 MB    | ##################################### | 100% \nnumpy-1.19.1         | 21 KB     | ##################################### | 100% \nopenssl-1.1.1g       | 1.9 MB    | ##################################### | 100% \nPreparing transactidone\ndone\n\bdone\n\nNote: you may need to restart the kernel to use updated packages.\n"
    }
   ],
   "source": [
    "# !pip install -U matplotlib\n",
    "%conda update scikit-learn\n"
   ]
  },
  {
   "cell_type": "markdown",
   "metadata": {},
   "source": [
    "# Desired Package Versions to Install#"
   ]
  },
  {
   "cell_type": "code",
   "execution_count": null,
   "metadata": {},
   "outputs": [],
   "source": []
  },
  {
   "cell_type": "code",
   "execution_count": 6,
   "metadata": {
    "ExecuteTime": {
     "end_time": "2020-07-31T00:43:17.644104Z",
     "start_time": "2020-07-31T00:43:02.927541Z"
    }
   },
   "outputs": [
    {
     "output_type": "execute_result",
     "data": {
      "text/plain": "'1.1.0'"
     },
     "metadata": {},
     "execution_count": 6
    }
   ],
   "source": [
    "# %conda update pandas\n",
    "import pandas\n",
    "pandas.__version__"
   ]
  },
  {
   "cell_type": "code",
   "execution_count": null,
   "metadata": {
    "ExecuteTime": {
     "end_time": "2020-07-31T00:38:30.600396Z",
     "start_time": "2020-07-31T00:38:30.598240Z"
    }
   },
   "outputs": [],
   "source": [
    "# !pip list numpy\n",
    "# !pip uninstall numpy\n",
    "# %conda remove numpy"
   ]
  },
  {
   "cell_type": "code",
   "execution_count": 7,
   "metadata": {
    "ExecuteTime": {
     "end_time": "2020-07-31T00:44:57.806648Z",
     "start_time": "2020-07-31T00:44:57.803821Z"
    }
   },
   "outputs": [],
   "source": [
    "import pandas as pd\n",
    "import numpy as np\n",
    "import matplotlib as mpl\n",
    "import seaborn as sns\n",
    "import sklearn\n",
    "import inspect\n",
    "\n"
   ]
  },
  {
   "cell_type": "code",
   "execution_count": 8,
   "metadata": {
    "ExecuteTime": {
     "end_time": "2020-07-31T00:44:58.020213Z",
     "start_time": "2020-07-31T00:44:58.014417Z"
    },
    "tags": []
   },
   "outputs": [
    {
     "output_type": "stream",
     "name": "stdout",
     "text": "pandas = v1.1.0\n\t/opt/anaconda3/envs/learn-env/lib/python3.6/site-packages/pandas/__init__.py\n\nnumpy = v1.19.1\n\t/opt/anaconda3/envs/learn-env/lib/python3.6/site-packages/pandas/__init__.py\n\nmatplotlib = v3.3.0\n\t/opt/anaconda3/envs/learn-env/lib/python3.6/site-packages/pandas/__init__.py\n\nseaborn = v0.10.1\n\t/opt/anaconda3/envs/learn-env/lib/python3.6/site-packages/pandas/__init__.py\n\nsklearn = v0.23.1\n\t/opt/anaconda3/envs/learn-env/lib/python3.6/site-packages/pandas/__init__.py\n\n"
    }
   ],
   "source": [
    "packages = [pd,np,mpl,sns,sklearn]\n",
    "for pkg in packages:\n",
    "    print(pkg.__name__+' = v'+str(pkg.__version__))\n",
    "    print('\\t'+inspect.getabsfile(pd))\n",
    "    print()"
   ]
  },
  {
   "cell_type": "markdown",
   "metadata": {},
   "source": [
    "### Package Versions to Install\n",
    "| Package | Version | \n",
    "| --- | --- |\n",
    "|pandas | >= 1.0.1 |\n",
    "|matplotlib | >= 3.2.2|\n",
    "| numpy | 1.16.5|\n",
    "|sklearn | v0.22.1 |\n",
    "| seaborn |  v0.10.1|\n",
    "\n"
   ]
  },
  {
   "cell_type": "code",
   "execution_count": null,
   "metadata": {
    "ExecuteTime": {
     "start_time": "2020-07-31T00:22:22.968Z"
    }
   },
   "outputs": [],
   "source": [
    "# %conda info"
   ]
  },
  {
   "cell_type": "code",
   "execution_count": null,
   "metadata": {},
   "outputs": [],
   "source": []
  },
  {
   "cell_type": "code",
   "execution_count": null,
   "metadata": {
    "ExecuteTime": {
     "start_time": "2020-07-31T00:22:10.340Z"
    }
   },
   "outputs": [],
   "source": [
    "%conda update pandas"
   ]
  },
  {
   "cell_type": "markdown",
   "metadata": {},
   "source": [
    "# Jupyer Notebook Extensions"
   ]
  },
  {
   "cell_type": "code",
   "execution_count": null,
   "metadata": {
    "ExecuteTime": {
     "start_time": "2020-07-31T00:32:00.526Z"
    }
   },
   "outputs": [],
   "source": [
    "try:\n",
    "    %conda install -c conda-forge jupyter_contrib_nbextensions\n",
    "    %conda install jupyter_nbextensions_configurator\n",
    "except Exception as e:\n",
    "    print(e)\n",
    "#     print('Conda install failed, using pip install instead.')\n",
    "#     !pip install jupyter_contrib_nbextensions\n",
    "#     !jupyter contrib nbextension install --user\n",
    "\n",
    "\n",
    "!jupyter nbextension enable jupyter_nbextensions_configurator"
   ]
  },
  {
   "cell_type": "code",
   "execution_count": null,
   "metadata": {
    "ExecuteTime": {
     "end_time": "2020-07-31T00:18:16.604485Z",
     "start_time": "2020-07-31T00:18:16.602820Z"
    },
    "scrolled": false
   },
   "outputs": [],
   "source": [
    "# %conda update jupyter_contrib_nbextensions\n",
    "# %conda update jupyter_nbextensions_configurator"
   ]
  },
  {
   "cell_type": "code",
   "execution_count": null,
   "metadata": {
    "ExecuteTime": {
     "end_time": "2020-07-31T00:18:18.894787Z",
     "start_time": "2020-07-31T00:18:16.605557Z"
    }
   },
   "outputs": [],
   "source": [
    "!jupyter nbextension enable execute_time/ExecuteTime\n",
    "!jupyter nbextension enable toc2/main\n",
    "!jupyter nbextension enable livemdpreview/livemdpreview\n",
    "!jupyter nbextension enable collapsible_headings/main\n",
    "!jupyter nbextension enable spellchecker/main\n",
    "!jupyter nbextension enable codefolding/main\n",
    "!jupyter nbextension enable ruler/main"
   ]
  },
  {
   "cell_type": "markdown",
   "metadata": {},
   "source": [
    "# BOOKMARK"
   ]
  },
  {
   "cell_type": "code",
   "execution_count": null,
   "metadata": {
    "ExecuteTime": {
     "end_time": "2020-07-25T23:10:17.314292Z",
     "start_time": "2020-07-25T23:10:17.163865Z"
    }
   },
   "outputs": [],
   "source": [
    "stop"
   ]
  },
  {
   "cell_type": "code",
   "execution_count": null,
   "metadata": {
    "ExecuteTime": {
     "end_time": "2020-07-25T23:10:17.315675Z",
     "start_time": "2020-07-25T23:09:14.314Z"
    }
   },
   "outputs": [],
   "source": [
    "!pip search pandas#--help"
   ]
  },
  {
   "cell_type": "code",
   "execution_count": null,
   "metadata": {
    "ExecuteTime": {
     "end_time": "2020-07-25T23:10:17.316447Z",
     "start_time": "2020-07-25T23:09:14.317Z"
    }
   },
   "outputs": [],
   "source": [
    "!pip install pandas>=1.0.1"
   ]
  },
  {
   "cell_type": "code",
   "execution_count": null,
   "metadata": {
    "ExecuteTime": {
     "end_time": "2020-07-25T23:10:17.317147Z",
     "start_time": "2020-07-25T23:09:14.320Z"
    }
   },
   "outputs": [],
   "source": [
    "# !pip list numpy"
   ]
  },
  {
   "cell_type": "code",
   "execution_count": null,
   "metadata": {
    "ExecuteTime": {
     "end_time": "2020-07-25T23:10:17.318012Z",
     "start_time": "2020-07-25T23:09:14.322Z"
    }
   },
   "outputs": [],
   "source": [
    "# %conda search numpy"
   ]
  },
  {
   "cell_type": "code",
   "execution_count": null,
   "metadata": {
    "ExecuteTime": {
     "end_time": "2020-07-25T23:10:17.319037Z",
     "start_time": "2020-07-25T23:09:14.324Z"
    }
   },
   "outputs": [],
   "source": [
    "import glob\n",
    "glob.glob('*.yml')[-1]"
   ]
  },
  {
   "cell_type": "code",
   "execution_count": null,
   "metadata": {
    "ExecuteTime": {
     "end_time": "2020-07-25T23:10:17.319640Z",
     "start_time": "2020-07-25T23:09:14.327Z"
    }
   },
   "outputs": [],
   "source": [
    "with open(glob.glob('*.yml')[-1]) as file:\n",
    "    package_list = file.read()\n",
    "package_list[:10]"
   ]
  },
  {
   "cell_type": "code",
   "execution_count": null,
   "metadata": {
    "ExecuteTime": {
     "end_time": "2020-07-25T23:10:17.320770Z",
     "start_time": "2020-07-25T23:09:14.329Z"
    }
   },
   "outputs": [],
   "source": [
    "package_list.split('channel')"
   ]
  },
  {
   "cell_type": "code",
   "execution_count": null,
   "metadata": {
    "ExecuteTime": {
     "end_time": "2020-07-25T23:10:17.321733Z",
     "start_time": "2020-07-25T23:09:14.331Z"
    },
    "scrolled": false
   },
   "outputs": [],
   "source": [
    "%conda list"
   ]
  },
  {
   "cell_type": "code",
   "execution_count": null,
   "metadata": {},
   "outputs": [],
   "source": []
  }
 ],
 "metadata": {
  "kernelspec": {
   "display_name": "learn-env",
   "language": "python",
   "name": "learn-env"
  },
  "language_info": {
   "codemirror_mode": {
    "name": "ipython",
    "version": 3
   },
   "file_extension": ".py",
   "mimetype": "text/x-python",
   "name": "python",
   "nbconvert_exporter": "python",
   "pygments_lexer": "ipython3",
   "version": "3.6.11-final"
  },
  "toc": {
   "base_numbering": 1,
   "nav_menu": {},
   "number_sections": false,
   "sideBar": true,
   "skip_h1_title": false,
   "title_cell": "Table of Contents",
   "title_sidebar": "Contents",
   "toc_cell": true,
   "toc_position": {
    "height": "calc(100% - 180px)",
    "left": "10px",
    "top": "150px",
    "width": "320px"
   },
   "toc_section_display": true,
   "toc_window_display": true
  }
 },
 "nbformat": 4,
 "nbformat_minor": 2
}