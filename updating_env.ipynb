{
 "cells": [
  {
   "cell_type": "markdown",
   "metadata": {},
   "source": [
    "# Updating Learn-Env"
   ]
  },
  {
   "cell_type": "markdown",
   "metadata": {
    "toc": true
   },
   "source": [
    "<h1>Table of Contents<span class=\"tocSkip\"></span></h1>\n",
    "<div class=\"toc\"><ul class=\"toc-item\"><li><span><a href=\"#Updating-Learn-Env\" data-toc-modified-id=\"Updating-Learn-Env-1\">Updating Learn-Env</a></span><ul class=\"toc-item\"><li><span><a href=\"#Make-sure-you-are-in-your-learn-env\" data-toc-modified-id=\"Make-sure-you-are-in-your-learn-env-1.1\">Make sure you are in your learn-env</a></span></li><li><span><a href=\"#Once-you-are-using-learn-env,-backup-your-environment:\" data-toc-modified-id=\"Once-you-are-using-learn-env,-backup-your-environment:-1.2\">Once you are using <code>learn-env</code>, backup your environment:</a></span><ul class=\"toc-item\"><li><span><a href=\"#It-is-recommended-to-do-a-commit-after-exporting-your-env\" data-toc-modified-id=\"It-is-recommended-to-do-a-commit-after-exporting-your-env-1.2.1\">It is recommended to do a commit after exporting your env</a></span></li><li><span><a href=\"#Create-a-backup-learn-env-from-your-exported-file-above\" data-toc-modified-id=\"Create-a-backup-learn-env-from-your-exported-file-above-1.2.2\">Create a backup learn-env from your exported file above</a></span></li><li><span><a href=\"#Display-a-list-of-all-packages-and-if-they-were-installed-by-conda-or-pip\" data-toc-modified-id=\"Display-a-list-of-all-packages-and-if-they-were-installed-by-conda-or-pip-1.2.3\">Display a list of all packages and if they were installed by conda or pip</a></span></li></ul></li></ul></li><li><span><a href=\"#Jupyer-Notebook-Extensions\" data-toc-modified-id=\"Jupyer-Notebook-Extensions-2\">Jupyer Notebook Extensions</a></span></li><li><span><a href=\"#Desired-Package-Versions-to-Install\" data-toc-modified-id=\"Desired-Package-Versions-to-Install-3\">Desired Package Versions to Install</a></span><ul class=\"toc-item\"><li><ul class=\"toc-item\"><li><span><a href=\"#Package-Versions-to-Install\" data-toc-modified-id=\"Package-Versions-to-Install-3.0.1\">Package Versions to Install</a></span></li></ul></li></ul></li><li><span><a href=\"#BOOKMARK\" data-toc-modified-id=\"BOOKMARK-4\">BOOKMARK</a></span></li></ul></div>"
   ]
  },
  {
   "cell_type": "markdown",
   "metadata": {},
   "source": [
    "## Make sure you are in your learn-env"
   ]
  },
  {
   "cell_type": "markdown",
   "metadata": {},
   "source": [
    "- Run the following cell and check which env has an asterisk to the right of its name ( should be `learn-env`)\n",
    "    - If you SEE learn-env but it does not have an asterisk:\n",
    "        - Go to `Toolbar > Kernel > Change Kernel >` then select \"learn-env\" if you have it or `Python[conda env:learn-env]`.\n",
    "        - Re-run the cell below"
   ]
  },
  {
   "cell_type": "code",
   "execution_count": 1,
   "metadata": {
    "ExecuteTime": {
     "end_time": "2020-07-25T23:09:16.042984Z",
     "start_time": "2020-07-25T23:09:14.269339Z"
    },
    "tags": []
   },
   "outputs": [
    {
     "output_type": "stream",
     "name": "stdout",
     "text": "# conda environments:\n#\nbase                     /opt/anaconda3\nlearn-env             *  /opt/anaconda3/envs/learn-env\nlearn-env-backup         /opt/anaconda3/envs/learn-env-backup\nlearn-env-ext            /opt/anaconda3/envs/learn-env-ext\nlearn-env2               /opt/anaconda3/envs/learn-env2\n\n\nNote: you may need to restart the kernel to use updated packages.\n"
    }
   ],
   "source": [
    "## Should see a list of environments on your computer (likely only has base and learn-env)\n",
    "%conda env list"
   ]
  },
  {
   "cell_type": "markdown",
   "metadata": {},
   "source": [
    "- **If you do not see either `learn-env` or `Python[conda env:learn-env]`** you may not have activate learn-env before starting jupyter notebook. \n",
    "    - Close and Halt the notebook\n",
    "    - Quit / Terminate the terminal\n",
    "    - Then activate learn-env and launch jupyter notebook again\n",
    "    ```bash\n",
    "    conda activate learn-env\n",
    "    jupyter notebook\n",
    "    ```"
   ]
  },
  {
   "cell_type": "markdown",
   "metadata": {},
   "source": [
    "## Once you are using `learn-env`, backup your environment:"
   ]
  },
  {
   "cell_type": "markdown",
   "metadata": {},
   "source": [
    "- Blog Post:\n",
    "    - https://medium.com/@shandou/export-and-create-conda-environment-with-yml-5de619fe5a2"
   ]
  },
  {
   "cell_type": "code",
   "execution_count": 2,
   "metadata": {
    "ExecuteTime": {
     "end_time": "2020-07-25T23:09:16.173149Z",
     "start_time": "2020-07-25T23:09:16.045244Z"
    }
   },
   "outputs": [
    {
     "output_type": "execute_result",
     "data": {
      "text/plain": "'learn-env_07-30-2020.yml'"
     },
     "metadata": {},
     "execution_count": 2
    }
   ],
   "source": [
    "import functions as fn\n",
    "import os\n",
    "\n",
    "env_name = fn.auto_filename_time('learn-env',\n",
    "                                 timeformat='%m-%d-%Y',ext='.yml')\n",
    "env_name"
   ]
  },
  {
   "cell_type": "code",
   "execution_count": 3,
   "metadata": {
    "ExecuteTime": {
     "end_time": "2020-07-25T23:09:16.177904Z",
     "start_time": "2020-07-25T23:09:16.174786Z"
    }
   },
   "outputs": [
    {
     "output_type": "execute_result",
     "data": {
      "text/plain": "['functions.py',\n 'LICENSE',\n '__pycache__',\n 'README.md',\n 'updating_env.ipynb',\n '.gitignore',\n '.gitattributes',\n '.ipynb_checkpoints',\n '.git',\n '.vscode']"
     },
     "metadata": {},
     "execution_count": 3
    }
   ],
   "source": [
    "os.listdir()"
   ]
  },
  {
   "cell_type": "code",
   "execution_count": 4,
   "metadata": {
    "ExecuteTime": {
     "end_time": "2020-07-25T23:09:29.754477Z",
     "start_time": "2020-07-25T23:09:16.179072Z"
    },
    "tags": []
   },
   "outputs": [
    {
     "output_type": "stream",
     "name": "stdout",
     "text": "\nNote: you may need to restart the kernel to use updated packages.\n"
    }
   ],
   "source": [
    "## Check for pre-existing .yml file\n",
    "yml_files = list(filter(lambda file: file.endswith('.yml'),os.listdir()))\n",
    "\n",
    "\n",
    "if env_name in yml_files:\n",
    "    \n",
    "    ans = input(f'The file {env_name} already exists. Overwrite?(y/n):')\n",
    "    \n",
    "    if ans.lower()=='n':\n",
    "        env_name = env_name.replace('.yml','v2.yml')\n",
    "        print(f\"Filename changed to {env_name}\")\n",
    "        \n",
    "    else:\n",
    "        print('Overwriting file...')\n",
    "\n",
    "\n",
    "%conda env export > \"{env_name}\""
   ]
  },
  {
   "cell_type": "markdown",
   "metadata": {},
   "source": [
    "### It is recommended to do a commit after exporting your env"
   ]
  },
  {
   "cell_type": "code",
   "execution_count": 5,
   "metadata": {
    "ExecuteTime": {
     "end_time": "2020-07-25T23:09:38.701545Z",
     "start_time": "2020-07-25T23:09:29.756625Z"
    }
   },
   "outputs": [
    {
     "name": "stdout",
     "output_type": "stream",
     "text": [
      "Commit repository changes? (y/n)y\n",
      "[master 177ae41] Env Backup created.\n",
      " 2 files changed, 1271 insertions(+), 62 deletions(-)\n",
      " create mode 100644 learn-env-backup_07-25-2020v2.yml\n",
      "Changes committed.\n",
      "Push commit to GitHub? (y/n)y\n",
      "\u001b[KEnumerating objects: 6, done.\n",
      "\u001b[KCounting objects: 100% (6/6), done.\n",
      "Delta compression using up to 12 threads\n",
      "\u001b[KCompressing objects: 100% (4/4), done.\n",
      "\u001b[KWriting objects: 100% (4/4), 13.02 KiB | 6.51 MiB/s, done.\n",
      "Total 4 (delta 1), reused 0 (delta 0)\n",
      "remote: Resolving deltas: 100% (1/1), completed with 1 local object.\u001b[K\n",
      "To https://github.com/jirvingphd/updating-learn-env.git\n",
      "   fb4417f..177ae41  master -> master\n"
     ]
    }
   ],
   "source": [
    "## ask to commit\n",
    "ans = input('Commit repository changes? (y/n)')\n",
    "\n",
    "## if yes:\n",
    "if ans.lower()=='y':\n",
    "    ## Run git commands using !\n",
    "    !git add .\n",
    "    !git commit -am\"Env Backup created.\"\n",
    "    print('Changes committed.')\n",
    "    \n",
    "    ## ask to push\n",
    "    ans2 = input('Push commit to GitHub? (y/n)')\n",
    "    if ans2.lower()=='y':\n",
    "        !git push\n",
    "else:\n",
    "    print('Skipping commiting changes...')\n"
   ]
  },
  {
   "cell_type": "code",
   "execution_count": null,
   "metadata": {},
   "outputs": [],
   "source": []
  },
  {
   "cell_type": "markdown",
   "metadata": {},
   "source": [
    "### Create a backup learn-env from your exported file above"
   ]
  },
  {
   "cell_type": "code",
   "execution_count": 18,
   "metadata": {
    "ExecuteTime": {
     "end_time": "2020-07-25T23:10:36.213199Z",
     "start_time": "2020-07-25T23:10:34.521387Z"
    }
   },
   "outputs": [
    {
     "name": "stdout",
     "output_type": "stream",
     "text": [
      "Clone a backup of your learn-env?(y/n)n\n"
     ]
    }
   ],
   "source": [
    "ans = input(\"Clone a backup of your learn-env?(y/n)\")\n",
    "if ans.lower()=='y':\n",
    "    print('Cloning exported environment as learn-env-backup')\n",
    "    %conda env create -n \"learn-env-backup\" -f \"{env_name}\" #ironment.yml\n"
   ]
  },
  {
   "cell_type": "markdown",
   "metadata": {},
   "source": [
    "#### Make sure that `learn-env-backup` now appears in the env list"
   ]
  },
  {
   "cell_type": "code",
   "execution_count": 7,
   "metadata": {
    "ExecuteTime": {
     "end_time": "2020-07-25T23:09:42.751199Z",
     "start_time": "2020-07-25T23:09:41.425996Z"
    }
   },
   "outputs": [
    {
     "name": "stdout",
     "output_type": "stream",
     "text": [
      "# conda environments:\n",
      "#\n",
      "base                     /opt/anaconda3\n",
      "learn-env             *  /opt/anaconda3/envs/learn-env\n",
      "learn-env-backup         /opt/anaconda3/envs/learn-env-backup\n",
      "learn-env-ext            /opt/anaconda3/envs/learn-env-ext\n",
      "learn-env2               /opt/anaconda3/envs/learn-env2\n",
      "\n",
      "\n",
      "Note: you may need to restart the kernel to use updated packages.\n"
     ]
    }
   ],
   "source": [
    "%conda env list"
   ]
  },
  {
   "cell_type": "markdown",
   "metadata": {},
   "source": [
    "### Display a list of all packages and if they were installed by conda or pip"
   ]
  },
  {
   "cell_type": "code",
   "execution_count": 8,
   "metadata": {
    "ExecuteTime": {
     "end_time": "2020-07-25T23:09:49.839938Z",
     "start_time": "2020-07-25T23:09:42.754302Z"
    },
    "scrolled": false
   },
   "outputs": [
    {
     "name": "stdout",
     "output_type": "stream",
     "text": [
      "# packages in environment at /opt/anaconda3/envs/learn-env:\r\n",
      "#\r\n",
      "# Name                    Version                   Build  Channel\r\n",
      "_py-xgboost-mutex         2.0                       cpu_0  \r\n",
      "absl-py                   0.7.1                    pypi_0    pypi\r\n",
      "aiodns                    2.0.0                    pypi_0    pypi\r\n",
      "aiohttp                   3.6.2                    pypi_0    pypi\r\n",
      "aiohttp-socks             0.4.2                    pypi_0    pypi\r\n",
      "alabaster                 0.7.12                     py_0    conda-forge\r\n",
      "ansi2html                 1.5.2            py36h9f0ad1d_1    conda-forge\r\n",
      "appdirs                   1.4.4                    pypi_0    pypi\r\n",
      "appnope                   0.1.0            py36hf537a9a_0  \r\n",
      "argh                      0.26.2                   pypi_0    pypi\r\n",
      "asgiref                   3.2.10                   pypi_0    pypi\r\n",
      "asn1crypto                0.24.0                   py36_0  \r\n",
      "astor                     0.8.0                    pypi_0    pypi\r\n",
      "astroid                   1.6.5                    py36_0    conda-forge\r\n",
      "astropy                   4.0.1.post1              pypi_0    pypi\r\n",
      "astunparse                1.6.3                    pypi_0    pypi\r\n",
      "async-timeout             3.0.1                    pypi_0    pypi\r\n",
      "atomicwrites              1.3.0                    pypi_0    pypi\r\n",
      "attrs                     19.1.0                   py36_1  \r\n",
      "babel                     2.8.0                      py_0    conda-forge\r\n",
      "backcall                  0.1.0                    py36_0  \r\n",
      "beautifulsoup4            4.8.0                    py36_0  \r\n",
      "blas                      1.0                         mkl  \r\n",
      "bleach                    3.1.5              pyh9f0ad1d_0    conda-forge\r\n",
      "blis                      0.4.1                    pypi_0    pypi\r\n",
      "boto                      2.49.0                   py36_0  \r\n",
      "boto3                     1.9.234                    py_0  \r\n",
      "botocore                  1.12.234                   py_0  \r\n",
      "branca                    0.3.1                    pypi_0    pypi\r\n",
      "brotli                    1.0.7                    pypi_0    pypi\r\n",
      "brotlipy                  0.7.0           py36h37b9a7d_1000    conda-forge\r\n",
      "bump2version              0.5.11                   pypi_0    pypi\r\n",
      "bz2file                   0.98                     py36_1  \r\n",
      "ca-certificates           2020.6.20            hecda079_0    conda-forge\r\n",
      "cachetools                4.1.0                    pypi_0    pypi\r\n",
      "cairo                     1.14.12              hc4e6be7_4  \r\n",
      "catalogue                 1.0.0                    pypi_0    pypi\r\n",
      "cchardet                  2.1.6                    pypi_0    pypi\r\n",
      "certifi                   2020.6.20        py36h9f0ad1d_0    conda-forge\r\n",
      "cffi                      1.12.3           py36hb5b8e2f_0  \r\n",
      "chardet                   3.0.4                 py36_1003  \r\n",
      "click                     7.1.2              pyh9f0ad1d_0    conda-forge\r\n",
      "click-plugins             1.1.1                    pypi_0    pypi\r\n",
      "cligj                     0.5.0                    pypi_0    pypi\r\n",
      "cloog                     0.18.0                       10    conda-forge\r\n",
      "cloudpickle               1.5.0                      py_0    conda-forge\r\n",
      "colorlover                0.3.0                    pypi_0    pypi\r\n",
      "confuse                   1.1.0                    pypi_0    pypi\r\n",
      "convertdate               2.1.3                    pypi_0    pypi\r\n",
      "coverage                  4.5.4                    pypi_0    pypi\r\n",
      "cryptography              2.7              py36ha12b0ac_0  \r\n",
      "cryptography-vectors      2.7                        py_0  \r\n",
      "cufflinks                 0.17.3                   pypi_0    pypi\r\n",
      "cycler                    0.10.0           py36hfc81398_0  \r\n",
      "cymem                     2.0.3                    pypi_0    pypi\r\n",
      "cython                    0.29.13          py36h0a44026_0  \r\n",
      "dash                      1.13.4             pyh9f0ad1d_0    conda-forge\r\n",
      "dash-core-components      1.10.1             pyh9f0ad1d_0    conda-forge\r\n",
      "dash-html-components      1.0.3              pyh9f0ad1d_0    conda-forge\r\n",
      "dash-renderer             1.5.1              pyh9f0ad1d_0    conda-forge\r\n",
      "dash-table                4.8.1              pyh9f0ad1d_0    conda-forge\r\n",
      "dbus                      1.13.12              h90a0687_0  \r\n",
      "decorator                 4.4.0                    py36_1  \r\n",
      "defusedxml                0.6.0                      py_0  \r\n",
      "dill                      0.3.0                    pypi_0    pypi\r\n",
      "distlib                   0.3.0                    pypi_0    pypi\r\n",
      "dj-database-url           0.5.0                    pypi_0    pypi\r\n",
      "django                    3.0.8                    pypi_0    pypi\r\n",
      "django-heroku             0.3.1                    pypi_0    pypi\r\n",
      "docutils                  0.15.2                   py36_0  \r\n",
      "ecos                      2.0.7.post1              pypi_0    pypi\r\n",
      "elasticsearch             7.8.0                    pypi_0    pypi\r\n",
      "en-core-web-md            2.3.0                    pypi_0    pypi\r\n",
      "en-core-web-sm            2.3.0                    pypi_0    pypi\r\n",
      "entrypoints               0.3                      py36_0  \r\n",
      "ephem                     3.7.7.0                  pypi_0    pypi\r\n",
      "expat                     2.2.6                h0a44026_0  \r\n",
      "fake-useragent            0.1.11                   pypi_0    pypi\r\n",
      "filelock                  3.0.12                   pypi_0    pypi\r\n",
      "fiona                     1.8.13.post1             pypi_0    pypi\r\n",
      "flake8                    3.7.8                    pypi_0    pypi\r\n",
      "flask                     1.1.2              pyh9f0ad1d_0    conda-forge\r\n",
      "flask-compress            1.5.0              pyh9f0ad1d_0    conda-forge\r\n",
      "folium                    0.9.1                    pypi_0    pypi\r\n",
      "fontconfig                2.13.0               h5d5b041_1  \r\n",
      "freetype                  2.9.1                hb4e5f40_0  \r\n",
      "fribidi                   1.0.5                h1de35cc_0  \r\n",
      "fsds                      0.2.22                   pypi_0    pypi\r\n",
      "fsds-100719               0.7.22                   pypi_0    pypi\r\n",
      "future                    0.17.1                   pypi_0    pypi\r\n",
      "gast                      0.3.3                    pypi_0    pypi\r\n",
      "gensim                    3.7.3            py36h0a44026_0  \r\n",
      "geographiclib             1.50                     pypi_0    pypi\r\n",
      "geopandas                 0.8.0                    pypi_0    pypi\r\n",
      "geopy                     2.0.0                    pypi_0    pypi\r\n",
      "gettext                   0.19.8.1             h15daf44_3  \r\n",
      "glib                      2.56.2               hd9629dc_0  \r\n",
      "gmp                       5.1.2                         6    conda-forge\r\n",
      "google-auth               1.16.0                   pypi_0    pypi\r\n",
      "google-auth-oauthlib      0.4.1                    pypi_0    pypi\r\n",
      "google-pasta              0.2.0                    pypi_0    pypi\r\n",
      "googletransx              2.4.2                    pypi_0    pypi\r\n",
      "graphite2                 1.3.13               h2098e52_0  \r\n",
      "graphviz                  2.40.1               hefbbd9a_2  \r\n",
      "grpcio                    1.21.1                   pypi_0    pypi\r\n",
      "gunicorn                  20.0.4                   pypi_0    pypi\r\n",
      "h5py                      2.10.0                   pypi_0    pypi\r\n",
      "harfbuzz                  1.8.8                hb8d4a28_0  \r\n",
      "hdf5                      1.10.4               hfa1e0ec_0  \r\n",
      "holidays                  0.9.11                   pypi_0    pypi\r\n",
      "html5lib                  0.9999999                pypi_0    pypi\r\n",
      "htmlmin                   0.1.12                   pypi_0    pypi\r\n",
      "icu                       58.2                 h0a44026_3  \r\n",
      "idna                      2.8                      py36_0  \r\n",
      "idna-ssl                  1.1.0                    pypi_0    pypi\r\n",
      "imagehash                 4.1.0                    pypi_0    pypi\r\n",
      "imageio                   2.8.0                    pypi_0    pypi\r\n",
      "imagesize                 1.2.0                      py_0    conda-forge\r\n",
      "imbalanced-learn          0.4.3                    pypi_0    pypi\r\n",
      "importlib-metadata        0.17                     pypi_0    pypi\r\n",
      "importlib-resources       1.5.0                    pypi_0    pypi\r\n",
      "importlib_metadata        1.7.0                         0    conda-forge\r\n",
      "intel-openmp              2019.4                      233  \r\n",
      "ipykernel                 5.1.2            py36h39e3cac_0  \r\n",
      "ipynb                     0.5.1                    pypi_0    pypi\r\n",
      "ipython                   7.8.0            py36h39e3cac_0  \r\n",
      "ipython_genutils          0.2.0                    py36_0  \r\n",
      "ipywidgets                7.5.1                      py_0    conda-forge\r\n",
      "isl                       0.12.2                        1    conda-forge\r\n",
      "isort                     5.1.4            py36h9f0ad1d_0    conda-forge\r\n",
      "itsdangerous              1.1.0                      py_0    conda-forge\r\n",
      "jedi                      0.15.1                   py36_0  \r\n",
      "jellyfish                 0.6.1                    pypi_0    pypi\r\n",
      "jinja2                    2.10.1                   py36_0  \r\n",
      "jmespath                  0.9.4                      py_0  \r\n",
      "joblib                    0.13.2                   py36_0  \r\n",
      "jpeg                      9b                   he5867d9_2  \r\n",
      "jsonschema                3.0.2                    py36_0  \r\n",
      "jupyter                   1.0.0                      py_2    conda-forge\r\n",
      "jupyter-dash              0.2.1.post1                py_0    plotly\r\n",
      "jupyter_client            5.3.3                    py36_1  \r\n",
      "jupyter_console           6.1.0                      py_1    conda-forge\r\n",
      "jupyter_contrib_core      0.3.3                      py_2    conda-forge\r\n",
      "jupyter_contrib_nbextensions 0.5.1                    py36_0    conda-forge\r\n",
      "jupyter_core              4.5.0                    py36_0  \r\n",
      "jupyter_highlight_selected_word 0.2.0                 py36_1000    conda-forge\r\n",
      "jupyter_latex_envs        1.4.4                 py36_1000    conda-forge\r\n",
      "jupyter_nbextensions_configurator 0.4.1            py36h9f0ad1d_1    conda-forge\r\n",
      "kaggle                    1.5.6                    pypi_0    pypi\r\n",
      "keras                     2.3.1                    pypi_0    pypi\r\n",
      "keras-applications        1.0.8                    pypi_0    pypi\r\n",
      "keras-preprocessing       1.1.2                    pypi_0    pypi\r\n",
      "keyring                   21.2.1           py36h9f0ad1d_0    conda-forge\r\n",
      "kiwisolver                1.1.0            py36h0a44026_0  \r\n",
      "lazy-object-proxy         1.5.1            py36h9de38fb_0    conda-forge\r\n",
      "libcxx                    4.0.1                hcfea43d_1  \r\n",
      "libcxxabi                 4.0.1                hcfea43d_1  \r\n",
      "libedit                   3.1.20181209         hb402a30_0  \r\n",
      "libffi                    3.2.1                h0a44026_6  \r\n",
      "libgfortran               3.0.1                h93005f0_2  \r\n",
      "libiconv                  1.15                 hdd342a3_7  \r\n",
      "libpng                    1.6.37               ha441bb4_0  \r\n",
      "libsodium                 1.0.16               h3efe00b_0  \r\n",
      "libtiff                   4.0.10               hcb84e12_2  \r\n",
      "libxgboost                0.90                 h0a44026_1  \r\n",
      "libxml2                   2.9.9                hf6e021a_1  \r\n",
      "libxslt                   1.1.33               h33a18ac_0  \r\n",
      "llvm-openmp               4.0.1                hcfea43d_1  \r\n",
      "llvmlite                  0.32.1                   pypi_0    pypi\r\n",
      "lunardate                 0.2.0                    pypi_0    pypi\r\n",
      "lxml                      4.4.1            py36hef8c89e_0  \r\n",
      "markdown                  3.1.1                    pypi_0    pypi\r\n",
      "markupsafe                1.1.1            py36h1de35cc_0  \r\n",
      "matplotlib                3.2.2                    pypi_0    pypi\r\n",
      "mccabe                    0.6.1                    pypi_0    pypi\r\n",
      "missingno                 0.4.2                    pypi_0    pypi\r\n",
      "mistune                   0.8.4            py36h1de35cc_0  \r\n",
      "mkl                       2019.4                      233  \r\n",
      "mkl-service               2.3.0            py36hfbe908c_0  \r\n",
      "mkl_fft                   1.0.14           py36h5e564d8_0  \r\n",
      "mkl_random                1.1.0            py36ha771720_0  \r\n",
      "more-itertools            7.0.0                    pypi_0    pypi\r\n",
      "mpc                       1.0.3                hc455b36_4  \r\n",
      "mpfr                      3.1.5                h7fa3772_1  \r\n",
      "multidict                 4.7.6                    pypi_0    pypi\r\n",
      "multiprocess              0.70.8                   pypi_0    pypi\r\n",
      "munch                     2.5.0                    pypi_0    pypi\r\n",
      "murmurhash                1.0.2                    pypi_0    pypi\r\n",
      "nb_conda                  2.2.1                    py36_0  \r\n",
      "nb_conda_kernels          2.2.1                    py36_0  \r\n",
      "nbconvert                 5.5.0                      py_0  \r\n",
      "nbformat                  4.4.0                    py36_0  \r\n",
      "ncurses                   6.1                  h0a44026_1  \r\n",
      "networkx                  2.4                      pypi_0    pypi\r\n",
      "nltk                      3.4.5                    py36_0  \r\n",
      "notebook                  5.7.8                    py36_0  \r\n",
      "numba                     0.49.1                   pypi_0    pypi\r\n",
      "numpy                     1.18.4                   pypi_0    pypi\r\n",
      "numpy-base                1.16.5           py36h6575580_0  \r\n",
      "numpydoc                  1.1.0              pyh9f0ad1d_0    conda-forge\r\n",
      "oauthlib                  3.1.0                    pypi_0    pypi\r\n",
      "obscure                   1.0.1                    pypi_0    pypi\r\n",
      "openssl                   1.1.1g               h0b31af3_0    conda-forge\r\n",
      "opt-einsum                3.2.1                    pypi_0    pypi\r\n",
      "osqp                      0.6.1                    pypi_0    pypi\r\n",
      "packaging                 20.4               pyh9f0ad1d_0    conda-forge\r\n",
      "pandas                    1.0.5                    pypi_0    pypi\r\n",
      "pandas-profiling          2.8.0                    pypi_0    pypi\r\n",
      "pandasql                  0.7.3                    pypi_0    pypi\r\n",
      "pandoc                    2.2.3.2                       0  \r\n",
      "pandocfilters             1.4.2                    py36_1  \r\n",
      "pango                     1.42.4               h060686c_0  \r\n",
      "parso                     0.5.1                      py_0  \r\n",
      "pathtools                 0.1.2                    pypi_0    pypi\r\n",
      "patsy                     0.5.1                    py36_0  \r\n",
      "pcre                      8.43                 h0a44026_0  \r\n",
      "pexpect                   4.7.0                    py36_0  \r\n",
      "phik                      0.10.0                   pypi_0    pypi\r\n",
      "pickleshare               0.7.5                    py36_0  \r\n",
      "pillow                    6.1.0                    pypi_0    pypi\r\n",
      "pip                       19.2.3                   py36_0  \r\n",
      "pixman                    0.38.0               h1de35cc_0  \r\n",
      "pkginfo                   1.5.0.1                  pypi_0    pypi\r\n",
      "plac                      1.1.3                    pypi_0    pypi\r\n",
      "plotly                    4.8.1                    pypi_0    pypi\r\n",
      "plotly-geo                1.0.0                    pypi_0    pypi\r\n",
      "pluggy                    0.12.0                   pypi_0    pypi\r\n",
      "pprint                    0.1                      pypi_0    pypi\r\n",
      "preshed                   3.0.2                    pypi_0    pypi\r\n",
      "prometheus_client         0.7.1                      py_0  \r\n",
      "prompt_toolkit            2.0.9                    py36_0  \r\n",
      "protobuf                  3.8.0                    pypi_0    pypi\r\n",
      "psutil                    5.7.2            py36h9de38fb_0    conda-forge\r\n",
      "psycopg2                  2.8.5                    pypi_0    pypi\r\n",
      "psycopg2-binary           2.8.5                    pypi_0    pypi\r\n",
      "ptyprocess                0.6.0                    py36_0  \r\n",
      "py                        1.8.0                    pypi_0    pypi\r\n",
      "py-xgboost                0.90             py36h0a44026_1  \r\n",
      "py4j                      0.10.7                   py36_0  \r\n",
      "pyasn1                    0.4.8                    pypi_0    pypi\r\n",
      "pyasn1-modules            0.2.8                    pypi_0    pypi\r\n",
      "pycares                   3.1.1                    pypi_0    pypi\r\n",
      "pycodestyle               2.5.0                    pypi_0    pypi\r\n",
      "pycparser                 2.19                     py36_0  \r\n",
      "pydotplus                 2.0.2                    py36_1  \r\n",
      "pyflakes                  2.1.1                    pypi_0    pypi\r\n",
      "pygments                  2.4.2                      py_0  \r\n",
      "pylint                    1.8.4                    py36_0    conda-forge\r\n",
      "pyopenssl                 19.0.0                   py36_0  \r\n",
      "pyparsing                 2.4.2                      py_0  \r\n",
      "pyperclip                 1.8.0                    pypi_0    pypi\r\n",
      "pyproj                    2.6.1.post1              pypi_0    pypi\r\n",
      "pyqt                      5.9.2            py36h2a560b1_4    conda-forge\r\n",
      "pyrsistent                0.14.11          py36h1de35cc_0  \r\n",
      "pysocks                   1.7.1                    py36_0  \r\n",
      "pystan                    2.17.1.0                 pypi_0    pypi\r\n",
      "pytest                    3.7.0                    pypi_0    pypi\r\n",
      "python                    3.6.9                h359304d_0  \r\n",
      "python-dateutil           2.8.0                    py36_0  \r\n",
      "python-dotenv             0.14.0                   pypi_0    pypi\r\n",
      "python-graphviz           0.11                     pypi_0    pypi\r\n",
      "python-slugify            4.0.0                    pypi_0    pypi\r\n",
      "python.app                2                       py36_10  \r\n",
      "python_abi                3.6                     1_cp36m    conda-forge\r\n",
      "pytz                      2019.2                     py_0  \r\n",
      "pywavelets                1.1.1                    pypi_0    pypi\r\n",
      "pyyaml                    5.3.1            py36h1de35cc_0  \r\n",
      "pyzmq                     18.1.0           py36h0a44026_0  \r\n",
      "qgrid                     1.3.1            py36h9f0ad1d_0    conda-forge\r\n",
      "qt                        5.9.7                h468cd18_1  \r\n",
      "qtawesome                 0.7.2              pyh9f0ad1d_0    conda-forge\r\n",
      "qtconsole                 4.7.5              pyh9f0ad1d_0    conda-forge\r\n",
      "qtpy                      1.9.0                      py_0    conda-forge\r\n",
      "readline                  7.0                  h1de35cc_5  \r\n",
      "readme-renderer           26.0                     pypi_0    pypi\r\n",
      "regex                     2020.7.14                pypi_0    pypi\r\n",
      "requests                  2.23.0                   pypi_0    pypi\r\n",
      "requests-oauthlib         1.3.0                    pypi_0    pypi\r\n",
      "requests-toolbelt         0.9.1                    pypi_0    pypi\r\n",
      "retrying                  1.3.3                    py36_2  \r\n",
      "rope                      0.17.0             pyh9f0ad1d_0    conda-forge\r\n",
      "rsa                       4.0                      pypi_0    pypi\r\n",
      "s3transfer                0.2.1                    py36_0  \r\n",
      "schedule                  0.6.0                    pypi_0    pypi\r\n",
      "scikit-image              0.17.2                   pypi_0    pypi\r\n",
      "scikit-learn              0.23.1                   pypi_0    pypi\r\n",
      "scikit-surprise           1.1.0                    pypi_0    pypi\r\n",
      "scipy                     1.3.1            py36h1410ff5_0  \r\n",
      "seaborn                   0.10.1                   pypi_0    pypi\r\n",
      "selenium                  3.141.0                  pypi_0    pypi\r\n",
      "send2trash                1.5.0                    py36_0  \r\n",
      "setuptools                41.2.0                   py36_0  \r\n",
      "setuptools-git            1.2                      pypi_0    pypi\r\n",
      "shapely                   1.7.0                    pypi_0    pypi\r\n",
      "simplegeneric             0.8.1                    py36_2  \r\n",
      "sip                       4.19.8           py36h0a44026_0  \r\n",
      "six                       1.12.0                   py36_0  \r\n",
      "smart_open                1.8.4                      py_0  \r\n",
      "snowballstemmer           2.0.0                      py_0    conda-forge\r\n",
      "soupsieve                 1.9.2                    py36_0  \r\n",
      "spacy                     2.3.0                    pypi_0    pypi\r\n",
      "sphinx                    1.8.5                    pypi_0    pypi\r\n",
      "sphinxcontrib-applehelp   1.0.2                      py_0    conda-forge\r\n",
      "sphinxcontrib-devhelp     1.0.2                      py_0    conda-forge\r\n",
      "sphinxcontrib-htmlhelp    1.0.3                      py_0    conda-forge\r\n",
      "sphinxcontrib-jsmath      1.0.1                      py_0    conda-forge\r\n",
      "sphinxcontrib-qthelp      1.0.3                      py_0    conda-forge\r\n",
      "sphinxcontrib-serializinghtml 1.1.4                      py_0    conda-forge\r\n",
      "sphinxcontrib-websupport  1.2.2                    pypi_0    pypi\r\n",
      "spyder                    3.3.6                    py36_0  \r\n",
      "spyder-kernels            0.5.2                    py36_0  \r\n",
      "sqlalchemy                1.3.8                    pypi_0    pypi\r\n",
      "sqlite                    3.29.0               ha441bb4_0  \r\n",
      "sqlparse                  0.3.1                    pypi_0    pypi\r\n",
      "srsly                     1.0.2                    pypi_0    pypi\r\n",
      "statsmodels               0.11.1           py36h37b9a7d_2    conda-forge\r\n",
      "surprise                  0.1                      pypi_0    pypi\r\n",
      "tangled-up-in-unicode     0.0.6                    pypi_0    pypi\r\n",
      "tensorboard               2.2.2                    pypi_0    pypi\r\n",
      "tensorboard-plugin-wit    1.6.0.post3              pypi_0    pypi\r\n",
      "tensorflow                2.2.0                    pypi_0    pypi\r\n",
      "tensorflow-estimator      2.2.0                    pypi_0    pypi\r\n",
      "termcolor                 1.1.0                    pypi_0    pypi\r\n",
      "terminado                 0.8.2                    py36_0  \r\n",
      "testpath                  0.4.2                    py36_0  \r\n",
      "text-unidecode            1.3                      pypi_0    pypi\r\n",
      "thinc                     7.4.1                    pypi_0    pypi\r\n",
      "threadpoolctl             2.0.0                    pypi_0    pypi\r\n",
      "tifffile                  2020.5.25                pypi_0    pypi\r\n",
      "tk                        8.6.8                ha441bb4_0  \r\n",
      "tmdbsimple                2.2.8                    pypi_0    pypi\r\n",
      "tornado                   6.0.3            py36h1de35cc_3  \r\n",
      "tox                       3.14.0                   pypi_0    pypi\r\n",
      "tqdm                      4.46.0                   pypi_0    pypi\r\n",
      "traitlets                 4.3.2            py36h65bd3ce_0  \r\n",
      "twine                     1.14.0                   pypi_0    pypi\r\n",
      "twint                     2.1.20                    dev_0    <develop>\r\n",
      "typing                    3.7.4.1                  pypi_0    pypi\r\n",
      "typing-extensions         3.7.4.2                  pypi_0    pypi\r\n",
      "tzlocal                   2.1                      pypi_0    pypi\r\n",
      "unidecode                 1.1.1                    pypi_0    pypi\r\n",
      "urllib3                   1.24.2                   py36_0  \r\n",
      "us                        2.0.2                    pypi_0    pypi\r\n",
      "virtualenv                20.0.21                  pypi_0    pypi\r\n",
      "visions                   0.4.4                    pypi_0    pypi\r\n",
      "wasabi                    0.7.0                    pypi_0    pypi\r\n",
      "watchdog                  0.9.0                    pypi_0    pypi\r\n",
      "wcwidth                   0.1.7                    py36_0  \r\n",
      "webencodings              0.5.1                    py36_1  \r\n",
      "werkzeug                  0.15.4                   pypi_0    pypi\r\n",
      "wheel                     0.33.6                   pypi_0    pypi\r\n",
      "whitenoise                5.1.0                    pypi_0    pypi\r\n",
      "widgetsnbextension        3.5.1            py36h9f0ad1d_1    conda-forge\r\n",
      "wordcloud                 1.7.0                    pypi_0    pypi\r\n",
      "wrapt                     1.12.1           py36h37b9a7d_1    conda-forge\r\n",
      "wurlitzer                 2.0.0            py36h9f0ad1d_1    conda-forge\r\n",
      "xlrd                      1.2.0                    py36_0  \r\n",
      "xz                        5.2.4                h1de35cc_4  \r\n",
      "yaml                      0.1.7                hc338f04_2  \r\n",
      "yarl                      1.4.2                    pypi_0    pypi\r\n",
      "zeromq                    4.3.1                h0a44026_3  \r\n",
      "zipp                      0.5.1                    pypi_0    pypi\r\n",
      "zlib                      1.2.11               h1de35cc_3  \r\n",
      "zstd                      1.3.7                h5bba6e5_0  \r\n"
     ]
    },
    {
     "name": "stdout",
     "output_type": "stream",
     "text": [
      "\n",
      "Note: you may need to restart the kernel to use updated packages.\n"
     ]
    }
   ],
   "source": [
    "%conda list"
   ]
  },
  {
   "cell_type": "code",
   "execution_count": 9,
   "metadata": {
    "ExecuteTime": {
     "end_time": "2020-07-25T23:09:50.376025Z",
     "start_time": "2020-07-25T23:09:49.842567Z"
    }
   },
   "outputs": [
    {
     "name": "stdout",
     "output_type": "stream",
     "text": [
      "\n",
      "     active environment : learn-env\n",
      "    active env location : /opt/anaconda3/envs/learn-env\n",
      "            shell level : 2\n",
      "       user config file : /Users/jamesirving/.condarc\n",
      " populated config files : /Users/jamesirving/.condarc\n",
      "          conda version : 4.8.3\n",
      "    conda-build version : 3.18.11\n",
      "         python version : 3.7.6.final.0\n",
      "       virtual packages : __osx=10.14.6\n",
      "       base environment : /opt/anaconda3  (writable)\n",
      "           channel URLs : https://conda.anaconda.org/conda-forge/osx-64\n",
      "                          https://conda.anaconda.org/conda-forge/noarch\n",
      "                          https://repo.anaconda.com/pkgs/main/osx-64\n",
      "                          https://repo.anaconda.com/pkgs/main/noarch\n",
      "                          https://repo.anaconda.com/pkgs/r/osx-64\n",
      "                          https://repo.anaconda.com/pkgs/r/noarch\n",
      "          package cache : /opt/anaconda3/pkgs\n",
      "                          /Users/jamesirving/.conda/pkgs\n",
      "       envs directories : /opt/anaconda3/envs\n",
      "                          /Users/jamesirving/.conda/envs\n",
      "               platform : osx-64\n",
      "             user-agent : conda/4.8.3 requests/2.22.0 CPython/3.7.6 Darwin/18.7.0 OSX/10.14.6\n",
      "                UID:GID : 503:20\n",
      "             netrc file : /Users/jamesirving/.netrc\n",
      "           offline mode : False\n",
      "\n",
      "\n",
      "Note: you may need to restart the kernel to use updated packages.\n"
     ]
    }
   ],
   "source": [
    "%conda info"
   ]
  },
  {
   "cell_type": "markdown",
   "metadata": {},
   "source": [
    "# Jupyer Notebook Extensions"
   ]
  },
  {
   "cell_type": "code",
   "execution_count": 10,
   "metadata": {
    "ExecuteTime": {
     "end_time": "2020-07-25T23:10:12.946182Z",
     "start_time": "2020-07-25T23:09:50.378128Z"
    }
   },
   "outputs": [
    {
     "name": "stdout",
     "output_type": "stream",
     "text": [
      "Collecting package metadata (current_repodata.json): done\n",
      "Solving environment: done\n",
      "\n",
      "# All requested packages already installed.\n",
      "\n",
      "\n",
      "Note: you may need to restart the kernel to use updated packages.\n",
      "Collecting package metadata (current_repodata.json): done\n",
      "Solving environment: done\n",
      "\n",
      "# All requested packages already installed.\n",
      "\n",
      "\n",
      "Note: you may need to restart the kernel to use updated packages.\n",
      "Enabling notebook extension jupyter_nbextensions_configurator...\n",
      "      - Validating: problems found:\n",
      "        - require? \u001b[31m X\u001b[0m jupyter_nbextensions_configurator\n"
     ]
    }
   ],
   "source": [
    "try:\n",
    "    %conda install -c conda-forge jupyter_contrib_nbextensions\n",
    "    %conda install jupyter_nbextensions_configurator\n",
    "except Exception as e:\n",
    "    print(e)\n",
    "#     print('Conda install failed, using pip install instead.')\n",
    "#     !pip install jupyter_contrib_nbextensions\n",
    "#     !jupyter contrib nbextension install --user\n",
    "\n",
    "\n",
    "!jupyter nbextension enable jupyter_nbextensions_configurator"
   ]
  },
  {
   "cell_type": "code",
   "execution_count": 11,
   "metadata": {
    "ExecuteTime": {
     "end_time": "2020-07-25T23:10:12.950132Z",
     "start_time": "2020-07-25T23:10:12.948023Z"
    },
    "scrolled": false
   },
   "outputs": [],
   "source": [
    "# %conda update jupyter_contrib_nbextensions\n",
    "# %conda update jupyter_nbextensions_configurator"
   ]
  },
  {
   "cell_type": "code",
   "execution_count": 12,
   "metadata": {
    "ExecuteTime": {
     "end_time": "2020-07-25T23:10:15.270347Z",
     "start_time": "2020-07-25T23:10:12.951550Z"
    }
   },
   "outputs": [
    {
     "name": "stdout",
     "output_type": "stream",
     "text": [
      "Enabling notebook extension execute_time/ExecuteTime...\n",
      "      - Validating: \u001b[32mOK\u001b[0m\n",
      "Enabling notebook extension toc2/main...\n",
      "      - Validating: \u001b[32mOK\u001b[0m\n",
      "Enabling notebook extension livemdpreview/livemdpreview...\n",
      "      - Validating: \u001b[32mOK\u001b[0m\n",
      "Enabling notebook extension collapsible_headings/main...\n",
      "      - Validating: \u001b[32mOK\u001b[0m\n",
      "Enabling notebook extension spellchecker/main...\n",
      "      - Validating: \u001b[32mOK\u001b[0m\n",
      "Enabling notebook extension codefolding/main...\n",
      "      - Validating: \u001b[32mOK\u001b[0m\n",
      "Enabling notebook extension ruler/main...\n",
      "      - Validating: \u001b[32mOK\u001b[0m\n"
     ]
    }
   ],
   "source": [
    "!jupyter nbextension enable execute_time/ExecuteTime\n",
    "!jupyter nbextension enable toc2/main\n",
    "!jupyter nbextension enable livemdpreview/livemdpreview\n",
    "!jupyter nbextension enable collapsible_headings/main\n",
    "!jupyter nbextension enable spellchecker/main\n",
    "!jupyter nbextension enable codefolding/main\n",
    "!jupyter nbextension enable ruler/main"
   ]
  },
  {
   "cell_type": "markdown",
   "metadata": {},
   "source": [
    "# Desired Package Versions to Install#"
   ]
  },
  {
   "cell_type": "code",
   "execution_count": 13,
   "metadata": {
    "ExecuteTime": {
     "end_time": "2020-07-25T23:10:16.606318Z",
     "start_time": "2020-07-25T23:10:15.272905Z"
    }
   },
   "outputs": [],
   "source": [
    "import pandas as pd\n",
    "import numpy as np\n",
    "import matplotlib as mpl\n",
    "import seaborn as sns\n",
    "import sklearn"
   ]
  },
  {
   "cell_type": "markdown",
   "metadata": {},
   "source": [
    "### Package Versions to Install\n",
    "| Package | Version | \n",
    "| --- | --- |\n",
    "|pandas | >= 1.0.1 |\n",
    "|matplotlib | >= 3.2.2|\n",
    "| numpy | 1.16.5|\n",
    "|sklearn | v0.22.1 |\n",
    "| seaborn |  v0.10.1|\n",
    "\n"
   ]
  },
  {
   "cell_type": "code",
   "execution_count": 14,
   "metadata": {
    "ExecuteTime": {
     "end_time": "2020-07-25T23:10:17.154985Z",
     "start_time": "2020-07-25T23:10:16.608108Z"
    }
   },
   "outputs": [
    {
     "name": "stdout",
     "output_type": "stream",
     "text": [
      "\n",
      "     active environment : learn-env\n",
      "    active env location : /opt/anaconda3/envs/learn-env\n",
      "            shell level : 2\n",
      "       user config file : /Users/jamesirving/.condarc\n",
      " populated config files : /Users/jamesirving/.condarc\n",
      "          conda version : 4.8.3\n",
      "    conda-build version : 3.18.11\n",
      "         python version : 3.7.6.final.0\n",
      "       virtual packages : __osx=10.14.6\n",
      "       base environment : /opt/anaconda3  (writable)\n",
      "           channel URLs : https://conda.anaconda.org/conda-forge/osx-64\n",
      "                          https://conda.anaconda.org/conda-forge/noarch\n",
      "                          https://repo.anaconda.com/pkgs/main/osx-64\n",
      "                          https://repo.anaconda.com/pkgs/main/noarch\n",
      "                          https://repo.anaconda.com/pkgs/r/osx-64\n",
      "                          https://repo.anaconda.com/pkgs/r/noarch\n",
      "          package cache : /opt/anaconda3/pkgs\n",
      "                          /Users/jamesirving/.conda/pkgs\n",
      "       envs directories : /opt/anaconda3/envs\n",
      "                          /Users/jamesirving/.conda/envs\n",
      "               platform : osx-64\n",
      "             user-agent : conda/4.8.3 requests/2.22.0 CPython/3.7.6 Darwin/18.7.0 OSX/10.14.6\n",
      "                UID:GID : 503:20\n",
      "             netrc file : /Users/jamesirving/.netrc\n",
      "           offline mode : False\n",
      "\n",
      "\n",
      "Note: you may need to restart the kernel to use updated packages.\n"
     ]
    }
   ],
   "source": [
    "import inspect\n",
    "%conda info"
   ]
  },
  {
   "cell_type": "code",
   "execution_count": 15,
   "metadata": {
    "ExecuteTime": {
     "end_time": "2020-07-25T23:10:17.162336Z",
     "start_time": "2020-07-25T23:10:17.156750Z"
    }
   },
   "outputs": [
    {
     "name": "stdout",
     "output_type": "stream",
     "text": [
      "pandas = v1.0.1\n",
      "\t/opt/anaconda3/envs/learn-env/lib/python3.6/site-packages/pandas/__init__.py\n",
      "\n",
      "numpy = v1.16.5\n",
      "\t/opt/anaconda3/envs/learn-env/lib/python3.6/site-packages/pandas/__init__.py\n",
      "\n",
      "matplotlib = v3.2.2\n",
      "\t/opt/anaconda3/envs/learn-env/lib/python3.6/site-packages/pandas/__init__.py\n",
      "\n",
      "seaborn = v0.10.1\n",
      "\t/opt/anaconda3/envs/learn-env/lib/python3.6/site-packages/pandas/__init__.py\n",
      "\n",
      "sklearn = v0.22.1\n",
      "\t/opt/anaconda3/envs/learn-env/lib/python3.6/site-packages/pandas/__init__.py\n",
      "\n"
     ]
    }
   ],
   "source": [
    "packages = [pd,np,mpl,sns,sklearn]\n",
    "for pkg in packages:\n",
    "    print(pkg.__name__+' = v'+str(pkg.__version__))\n",
    "    print('\\t'+inspect.getabsfile(pd))\n",
    "    print()"
   ]
  },
  {
   "cell_type": "markdown",
   "metadata": {},
   "source": [
    "# BOOKMARK"
   ]
  },
  {
   "cell_type": "code",
   "execution_count": 16,
   "metadata": {
    "ExecuteTime": {
     "end_time": "2020-07-25T23:10:17.314292Z",
     "start_time": "2020-07-25T23:10:17.163865Z"
    }
   },
   "outputs": [
    {
     "ename": "NameError",
     "evalue": "name 'stop' is not defined",
     "output_type": "error",
     "traceback": [
      "\u001b[0;31m---------------------------------------------------------------------------\u001b[0m",
      "\u001b[0;31mNameError\u001b[0m                                 Traceback (most recent call last)",
      "\u001b[0;32m<ipython-input-16-4f76a9dad686>\u001b[0m in \u001b[0;36m<module>\u001b[0;34m\u001b[0m\n\u001b[0;32m----> 1\u001b[0;31m \u001b[0mstop\u001b[0m\u001b[0;34m\u001b[0m\u001b[0;34m\u001b[0m\u001b[0m\n\u001b[0m",
      "\u001b[0;31mNameError\u001b[0m: name 'stop' is not defined"
     ]
    }
   ],
   "source": [
    "stop"
   ]
  },
  {
   "cell_type": "code",
   "execution_count": null,
   "metadata": {
    "ExecuteTime": {
     "end_time": "2020-07-25T23:10:17.315675Z",
     "start_time": "2020-07-25T23:09:14.314Z"
    }
   },
   "outputs": [],
   "source": [
    "!pip search pandas#--help"
   ]
  },
  {
   "cell_type": "code",
   "execution_count": null,
   "metadata": {
    "ExecuteTime": {
     "end_time": "2020-07-25T23:10:17.316447Z",
     "start_time": "2020-07-25T23:09:14.317Z"
    }
   },
   "outputs": [],
   "source": [
    "!pip install pandas>=1.0.1"
   ]
  },
  {
   "cell_type": "code",
   "execution_count": null,
   "metadata": {
    "ExecuteTime": {
     "end_time": "2020-07-25T23:10:17.317147Z",
     "start_time": "2020-07-25T23:09:14.320Z"
    }
   },
   "outputs": [],
   "source": [
    "# !pip list numpy"
   ]
  },
  {
   "cell_type": "code",
   "execution_count": null,
   "metadata": {
    "ExecuteTime": {
     "end_time": "2020-07-25T23:10:17.318012Z",
     "start_time": "2020-07-25T23:09:14.322Z"
    }
   },
   "outputs": [],
   "source": [
    "# %conda search numpy"
   ]
  },
  {
   "cell_type": "code",
   "execution_count": null,
   "metadata": {
    "ExecuteTime": {
     "end_time": "2020-07-25T23:10:17.319037Z",
     "start_time": "2020-07-25T23:09:14.324Z"
    }
   },
   "outputs": [],
   "source": [
    "import glob\n",
    "glob.glob('*.yml')[-1]"
   ]
  },
  {
   "cell_type": "code",
   "execution_count": null,
   "metadata": {
    "ExecuteTime": {
     "end_time": "2020-07-25T23:10:17.319640Z",
     "start_time": "2020-07-25T23:09:14.327Z"
    }
   },
   "outputs": [],
   "source": [
    "with open(glob.glob('*.yml')[-1]) as file:\n",
    "    package_list = file.read()\n",
    "package_list[:10]"
   ]
  },
  {
   "cell_type": "code",
   "execution_count": null,
   "metadata": {
    "ExecuteTime": {
     "end_time": "2020-07-25T23:10:17.320770Z",
     "start_time": "2020-07-25T23:09:14.329Z"
    }
   },
   "outputs": [],
   "source": [
    "package_list.split('channel')"
   ]
  },
  {
   "cell_type": "code",
   "execution_count": null,
   "metadata": {
    "ExecuteTime": {
     "end_time": "2020-07-25T23:10:17.321733Z",
     "start_time": "2020-07-25T23:09:14.331Z"
    },
    "scrolled": false
   },
   "outputs": [],
   "source": [
    "%conda list"
   ]
  },
  {
   "cell_type": "code",
   "execution_count": null,
   "metadata": {},
   "outputs": [],
   "source": []
  }
 ],
 "metadata": {
  "kernelspec": {
   "display_name": "learn-env",
   "language": "python",
   "name": "learn-env"
  },
  "language_info": {
   "codemirror_mode": {
    "name": "ipython",
    "version": 3
   },
   "file_extension": ".py",
   "mimetype": "text/x-python",
   "name": "python",
   "nbconvert_exporter": "python",
   "pygments_lexer": "ipython3",
   "version": "3.6.9-final"
  },
  "toc": {
   "base_numbering": 1,
   "nav_menu": {},
   "number_sections": false,
   "sideBar": true,
   "skip_h1_title": false,
   "title_cell": "Table of Contents",
   "title_sidebar": "Contents",
   "toc_cell": true,
   "toc_position": {
    "height": "calc(100% - 180px)",
    "left": "10px",
    "top": "150px",
    "width": "320px"
   },
   "toc_section_display": true,
   "toc_window_display": true
  }
 },
 "nbformat": 4,
 "nbformat_minor": 2
}